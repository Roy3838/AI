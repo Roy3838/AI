{
 "cells": [
  {
   "cell_type": "code",
   "execution_count": null,
   "metadata": {},
   "outputs": [],
   "source": [
    "import os \n",
    "import json\n",
    "from tqdm import tqdm \n",
    "# SPLIT DATA INTO TRAIN AND TEST SETS\n"
   ]
  },
  {
   "cell_type": "code",
   "execution_count": 14,
   "metadata": {},
   "outputs": [
    {
     "ename": "TypeError",
     "evalue": "can only concatenate str (not \"int\") to str",
     "output_type": "error",
     "traceback": [
      "\u001b[0;31m---------------------------------------------------------------------------\u001b[0m",
      "\u001b[0;31mTypeError\u001b[0m                                 Traceback (most recent call last)",
      "Cell \u001b[0;32mIn[14], line 18\u001b[0m\n\u001b[1;32m     15\u001b[0m             outfile\u001b[38;5;241m.\u001b[39mwrite(json\u001b[38;5;241m.\u001b[39mdumps(processed_data) \u001b[38;5;241m+\u001b[39m \u001b[38;5;124m'\u001b[39m\u001b[38;5;130;01m\\n\u001b[39;00m\u001b[38;5;124m'\u001b[39m)\n\u001b[1;32m     17\u001b[0m \u001b[38;5;66;03m# Make sure to replace the file paths with the correct ones for your environment.\u001b[39;00m\n\u001b[0;32m---> 18\u001b[0m \u001b[43mprocess_large_jsonl\u001b[49m\u001b[43m(\u001b[49m\u001b[38;5;124;43m'\u001b[39;49m\u001b[38;5;124;43m/hdd/YT_Dataset/_raw_yt_metadata.jsonl\u001b[39;49m\u001b[38;5;124;43m'\u001b[39;49m\u001b[43m,\u001b[49m\u001b[43m \u001b[49m\u001b[38;5;124;43m'\u001b[39;49m\u001b[38;5;124;43m/hdd/YT_Dataset/processed_file_normalized.jsonl\u001b[39;49m\u001b[38;5;124;43m'\u001b[39;49m\u001b[43m)\u001b[49m\n",
      "Cell \u001b[0;32mIn[14], line 6\u001b[0m, in \u001b[0;36mprocess_large_jsonl\u001b[0;34m(input_filepath, output_filepath)\u001b[0m\n\u001b[1;32m      2\u001b[0m \u001b[38;5;28;01mwith\u001b[39;00m \u001b[38;5;28mopen\u001b[39m(input_filepath, \u001b[38;5;124m'\u001b[39m\u001b[38;5;124mr\u001b[39m\u001b[38;5;124m'\u001b[39m, encoding\u001b[38;5;241m=\u001b[39m\u001b[38;5;124m'\u001b[39m\u001b[38;5;124mutf-8\u001b[39m\u001b[38;5;124m'\u001b[39m) \u001b[38;5;28;01mas\u001b[39;00m infile, \\\n\u001b[1;32m      3\u001b[0m      \u001b[38;5;28mopen\u001b[39m(output_filepath, \u001b[38;5;124m'\u001b[39m\u001b[38;5;124mw\u001b[39m\u001b[38;5;124m'\u001b[39m, encoding\u001b[38;5;241m=\u001b[39m\u001b[38;5;124m'\u001b[39m\u001b[38;5;124mutf-8\u001b[39m\u001b[38;5;124m'\u001b[39m) \u001b[38;5;28;01mas\u001b[39;00m outfile:\n\u001b[1;32m      4\u001b[0m     \u001b[38;5;28;01mfor\u001b[39;00m line \u001b[38;5;129;01min\u001b[39;00m infile:\n\u001b[1;32m      5\u001b[0m         \u001b[38;5;66;03m# Convert the string line to a dictionary\u001b[39;00m\n\u001b[0;32m----> 6\u001b[0m         data \u001b[38;5;241m=\u001b[39m json\u001b[38;5;241m.\u001b[39mloads(\u001b[43mline\u001b[49m\u001b[38;5;241;43m+\u001b[39;49m\u001b[38;5;241;43m100\u001b[39;49m)\n\u001b[1;32m      7\u001b[0m         \u001b[38;5;28mprint\u001b[39m(data)\n\u001b[1;32m      8\u001b[0m         \u001b[38;5;28;01mbreak\u001b[39;00m\n",
      "\u001b[0;31mTypeError\u001b[0m: can only concatenate str (not \"int\") to str"
     ]
    }
   ],
   "source": [
    "def process_large_jsonl(input_filepath, output_filepath):\n",
    "    with open(input_filepath, 'r', encoding='utf-8') as infile, \\\n",
    "         open(output_filepath, 'w', encoding='utf-8') as outfile:\n",
    "        for line in infile:\n",
    "            # Convert the string line to a dictionary\n",
    "            data = json.loads(line)\n",
    "            #print(data)\n",
    "            #break\n",
    "            # Extract the desired information, providing a default value if the key is not found\n",
    "            processed_data = {\n",
    "                'title': data.get('title', 'No Title'),\n",
    "                'view_count': data.get('view_count', 0)  # Assuming 0 as a default value for missing view_count\n",
    "            }\n",
    "            # Convert the processed data back to a JSON string and write to the output file\n",
    "            outfile.write(json.dumps(processed_data) + '\\n')\n",
    "\n",
    "# Make sure to replace the file paths with the correct ones for your environment.\n",
    "process_large_jsonl('/hdd/YT_Dataset/_raw_yt_metadata.jsonl', '/hdd/YT_Dataset/processed_file_normalized.jsonl')\n",
    "\n"
   ]
  },
  {
   "cell_type": "code",
   "execution_count": null,
   "metadata": {},
   "outputs": [],
   "source": [
    "\n",
    "\n",
    "def load_jsonl(filepath, train_fraction=0.8):\n",
    "    # Read all lines from the file\n",
    "    with open(filepath, 'r', encoding='utf-8') as file:\n",
    "        lines = file.readlines()\n",
    "\n",
    "    # Calculate split index\n",
    "    split_index = int(len(lines) * train_fraction)\n",
    "\n",
    "    # Split data\n",
    "    train_data = lines[:split_index]\n",
    "    test_data = lines[split_index:]\n",
    "\n",
    "    # Save the splits to separate files\n",
    "    train_filepath = os.path.join('/mnt/datassd', 'train_data.jsonl')\n",
    "    test_filepath = os.path.join('/mnt/datassd', 'test_data.jsonl')\n",
    "    \n",
    "    with open(train_filepath, 'w', encoding='utf-8') as train_file:\n",
    "        train_file.writelines(train_data)\n",
    "    \n",
    "    with open(test_filepath, 'w', encoding='utf-8') as test_file:\n",
    "        test_file.writelines(test_data)\n",
    "\n",
    "    return train_filepath, test_filepath\n",
    "\n",
    "# Assuming the file path as given by the user with a slight correction to fit the accessible directory\n",
    "file_path = '/mnt/datassd/processed_file.jsonl'\n",
    "train_file_path, test_file_path = load_jsonl(file_path)"
   ]
  },
  {
   "cell_type": "code",
   "execution_count": 3,
   "metadata": {},
   "outputs": [],
   "source": [
    "import json\n",
    "from tqdm import tqdm\n",
    "\n",
    "\n",
    "# DATA LOADER\n",
    "def parse_jsonl_optimized(filepath):\n",
    "    titles = []\n",
    "    view_counts = []\n",
    "    with open(filepath, 'r', encoding='utf-8') as file:\n",
    "        for line in tqdm(file, desc=\"Processing\"):\n",
    "            # Parse the current line\n",
    "            data = json.loads(line)\n",
    "            # Extract and store the title and view count\n",
    "            titles.append(data['title'])\n",
    "            view_counts.append(data['view_count'])\n",
    "    return titles, view_counts\n",
    "\n",
    "# Assuming the file path is correctly specified\n",
    "file_path = '/mnt/data/train_data.jsonl'\n",
    "titles, view_counts = parse_jsonl_optimized(file_path)\n"
   ]
  }
 ],
 "metadata": {
  "kernelspec": {
   "display_name": "Python 3 (ipykernel)",
   "language": "python",
   "name": "python3"
  },
  "language_info": {
   "codemirror_mode": {
    "name": "ipython",
    "version": 3
   },
   "file_extension": ".py",
   "mimetype": "text/x-python",
   "name": "python",
   "nbconvert_exporter": "python",
   "pygments_lexer": "ipython3",
   "version": "3.11.8"
  }
 },
 "nbformat": 4,
 "nbformat_minor": 2
}
