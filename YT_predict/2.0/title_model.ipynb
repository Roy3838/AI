{
  "cells": [
    {
      "cell_type": "code",
      "execution_count": 1,
      "metadata": {
        "jukit_cell_id": "Y1ps5BQSbz"
      },
      "outputs": [],
      "source": [
        "import os\n",
        "os.environ[\"KERAS_BACKEND\"] = \"jax\""
      ]
    },
    {
      "cell_type": "code",
      "execution_count": 2,
      "metadata": {
        "jukit_cell_id": "oWVm17uamQ"
      },
      "outputs": [
        {
          "name": "stderr",
          "output_type": "stream",
          "text": [
            "2024-03-12 17:45:19.688342: E external/local_xla/xla/stream_executor/cuda/cuda_dnn.cc:9261] Unable to register cuDNN factory: Attempting to register factory for plugin cuDNN when one has already been registered\n",
            "2024-03-12 17:45:19.688389: E external/local_xla/xla/stream_executor/cuda/cuda_fft.cc:607] Unable to register cuFFT factory: Attempting to register factory for plugin cuFFT when one has already been registered\n",
            "2024-03-12 17:45:19.689432: E external/local_xla/xla/stream_executor/cuda/cuda_blas.cc:1515] Unable to register cuBLAS factory: Attempting to register factory for plugin cuBLAS when one has already been registered\n",
            "2024-03-12 17:45:19.695171: I tensorflow/core/platform/cpu_feature_guard.cc:182] This TensorFlow binary is optimized to use available CPU instructions in performance-critical operations.\n",
            "To enable the following instructions: AVX2 FMA, in other operations, rebuild TensorFlow with the appropriate compiler flags.\n",
            "2024-03-12 17:45:20.270355: W tensorflow/compiler/tf2tensorrt/utils/py_utils.cc:38] TF-TRT Warning: Could not find TensorRT\n"
          ]
        }
      ],
      "source": [
        "import tensorflow as tf\n",
        "import numpy as np\n",
        "import json\n",
        "from sklearn.model_selection import train_test_split\n",
        "from tqdm import tqdm\n",
        "\n",
        "def data_generator(filepath, tokenizer, batch_size=32, max_length=100, test_size=0.2):\n",
        "    \"\"\"\n",
        "    A generator function that yields batches of tokenized and padded sequences and their labels.\n",
        "    \n",
        "    Parameters:\n",
        "    - filepath: Path to the JSONL file.\n",
        "    - tokenizer: An instance of tf.keras.preprocessing.text.Tokenizer.\n",
        "    - batch_size: The number of samples to return in each batch.\n",
        "    - max_length: The maximum length of the sequences after padding.\n",
        "    - test_size: The proportion of the dataset to include in the test split.\n",
        "    \n",
        "    Yields:\n",
        "    - A tuple (batch_sequences, batch_labels), where:\n",
        "        - batch_sequences is a numpy array of tokenized and padded sequences.\n",
        "        - batch_labels is a numpy array of labels for each sequence in the batch.\n",
        "    \"\"\"\n",
        "    titles = []\n",
        "    view_counts = []\n",
        "\n",
        "    with open(filepath, 'r', encoding='utf-8') as file:\n",
        "        for line in tqdm(file, desc=\"Loading and processing data\"):\n",
        "            record = json.loads(line)\n",
        "            titles.append(record['title'])\n",
        "            view_counts.append(record['view_count'])\n",
        "            \n",
        "            if len(titles) == batch_size:\n",
        "                sequences = tokenizer.texts_to_sequences(titles)\n",
        "                padded_sequences = tf.keras.preprocessing.sequence.pad_sequences(sequences, maxlen=max_length, padding='post', truncating='post')\n",
        "                labels = np.log(np.array(view_counts, dtype=np.float32))\n",
        "                labels = np.where(labels == -np.inf, 0, labels)\n",
        "                \n",
        "                yield padded_sequences, labels\n",
        "                \n",
        "                titles = []\n",
        "                view_counts = []\n",
        "                \n",
        "    if titles:\n",
        "        sequences = tokenizer.texts_to_sequences(titles)\n",
        "        padded_sequences = tf.keras.preprocessing.sequence.pad_sequences(sequences, maxlen=max_length, padding='post', truncating='post')\n",
        "        labels = np.log(np.array(view_counts, dtype=np.float32))\n",
        "        labels = np.where(labels == -np.inf, 0, labels)\n",
        "        \n",
        "        yield padded_sequences, labels\n",
        "\n",
        "def sample_titles(filepath, sample_size=1000):\n",
        "    \"\"\"\n",
        "    Reads a sample of titles from a JSONL file.\n",
        "\n",
        "    Parameters:\n",
        "    - filepath: Path to the JSONL file.\n",
        "    - sample_size: Number of titles to sample.\n",
        "    \n",
        "    Returns:\n",
        "    - A list of sampled titles.\n",
        "    \"\"\"\n",
        "    titles = []\n",
        "    with open(filepath, 'r', encoding='utf-8') as file:\n",
        "        for line in file:\n",
        "            if len(titles) >= sample_size:\n",
        "                break\n",
        "            record = json.loads(line)\n",
        "            titles.append(record['title'])\n",
        "    return titles\n",
        "\n",
        "\n",
        "max_length = 100\n",
        "filepath = '/mnt/datassd/processed_file.jsonl'\n",
        "\n",
        "titles_sample = sample_titles(filepath)\n",
        "\n",
        "\n",
        "tokenizer = tf.keras.preprocessing.text.Tokenizer(num_words=10000, oov_token=\"<OOV>\")\n",
        "\n",
        "tokenizer.fit_on_texts(titles_sample)\n",
        "\n",
        "#tokenizer.fit_on_texts(titles)"
      ]
    },
    {
      "cell_type": "code",
      "execution_count": 3,
      "metadata": {
        "jukit_cell_id": "UZ5jTpSq96"
      },
      "outputs": [
        {
          "data": {
            "text/html": [
              "<pre style=\"white-space:pre;overflow-x:auto;line-height:normal;font-family:Menlo,'DejaVu Sans Mono',consolas,'Courier New',monospace\"><span style=\"font-weight: bold\">Model: \"functional_1\"</span>\n",
              "</pre>\n"
            ],
            "text/plain": [
              "\u001b[1mModel: \"functional_1\"\u001b[0m\n"
            ]
          },
          "metadata": {},
          "output_type": "display_data"
        },
        {
          "data": {
            "text/html": [
              "<pre style=\"white-space:pre;overflow-x:auto;line-height:normal;font-family:Menlo,'DejaVu Sans Mono',consolas,'Courier New',monospace\">┏━━━━━━━━━━━━━━━━━━━━━━━━━━━━━━━━━┳━━━━━━━━━━━━━━━━━━━━━━━━┳━━━━━━━━━━━━━━━┓\n",
              "┃<span style=\"font-weight: bold\"> Layer (type)                    </span>┃<span style=\"font-weight: bold\"> Output Shape           </span>┃<span style=\"font-weight: bold\">       Param # </span>┃\n",
              "┡━━━━━━━━━━━━━━━━━━━━━━━━━━━━━━━━━╇━━━━━━━━━━━━━━━━━━━━━━━━╇━━━━━━━━━━━━━━━┩\n",
              "│ input_layer (<span style=\"color: #0087ff; text-decoration-color: #0087ff\">InputLayer</span>)        │ (<span style=\"color: #00d7ff; text-decoration-color: #00d7ff\">None</span>, <span style=\"color: #00af00; text-decoration-color: #00af00\">100</span>)            │             <span style=\"color: #00af00; text-decoration-color: #00af00\">0</span> │\n",
              "├─────────────────────────────────┼────────────────────────┼───────────────┤\n",
              "│ token_and_position_embedding    │ (<span style=\"color: #00d7ff; text-decoration-color: #00d7ff\">None</span>, <span style=\"color: #00af00; text-decoration-color: #00af00\">100</span>, <span style=\"color: #00af00; text-decoration-color: #00af00\">256</span>)       │     <span style=\"color: #00af00; text-decoration-color: #00af00\">2,585,600</span> │\n",
              "│ (<span style=\"color: #0087ff; text-decoration-color: #0087ff\">TokenAndPositionEmbedding</span>)     │                        │               │\n",
              "├─────────────────────────────────┼────────────────────────┼───────────────┤\n",
              "│ transformer_encoder             │ (<span style=\"color: #00d7ff; text-decoration-color: #00d7ff\">None</span>, <span style=\"color: #00af00; text-decoration-color: #00af00\">100</span>, <span style=\"color: #00af00; text-decoration-color: #00af00\">256</span>)       │       <span style=\"color: #00af00; text-decoration-color: #00af00\">527,104</span> │\n",
              "│ (<span style=\"color: #0087ff; text-decoration-color: #0087ff\">TransformerEncoder</span>)            │                        │               │\n",
              "├─────────────────────────────────┼────────────────────────┼───────────────┤\n",
              "│ global_max_pooling1d            │ (<span style=\"color: #00d7ff; text-decoration-color: #00d7ff\">None</span>, <span style=\"color: #00af00; text-decoration-color: #00af00\">256</span>)            │             <span style=\"color: #00af00; text-decoration-color: #00af00\">0</span> │\n",
              "│ (<span style=\"color: #0087ff; text-decoration-color: #0087ff\">GlobalMaxPooling1D</span>)            │                        │               │\n",
              "├─────────────────────────────────┼────────────────────────┼───────────────┤\n",
              "│ dense (<span style=\"color: #0087ff; text-decoration-color: #0087ff\">Dense</span>)                   │ (<span style=\"color: #00d7ff; text-decoration-color: #00d7ff\">None</span>, <span style=\"color: #00af00; text-decoration-color: #00af00\">256</span>)            │        <span style=\"color: #00af00; text-decoration-color: #00af00\">65,792</span> │\n",
              "├─────────────────────────────────┼────────────────────────┼───────────────┤\n",
              "│ dense_1 (<span style=\"color: #0087ff; text-decoration-color: #0087ff\">Dense</span>)                 │ (<span style=\"color: #00d7ff; text-decoration-color: #00d7ff\">None</span>, <span style=\"color: #00af00; text-decoration-color: #00af00\">1</span>)              │           <span style=\"color: #00af00; text-decoration-color: #00af00\">257</span> │\n",
              "└─────────────────────────────────┴────────────────────────┴───────────────┘\n",
              "</pre>\n"
            ],
            "text/plain": [
              "┏━━━━━━━━━━━━━━━━━━━━━━━━━━━━━━━━━┳━━━━━━━━━━━━━━━━━━━━━━━━┳━━━━━━━━━━━━━━━┓\n",
              "┃\u001b[1m \u001b[0m\u001b[1mLayer (type)                   \u001b[0m\u001b[1m \u001b[0m┃\u001b[1m \u001b[0m\u001b[1mOutput Shape          \u001b[0m\u001b[1m \u001b[0m┃\u001b[1m \u001b[0m\u001b[1m      Param #\u001b[0m\u001b[1m \u001b[0m┃\n",
              "┡━━━━━━━━━━━━━━━━━━━━━━━━━━━━━━━━━╇━━━━━━━━━━━━━━━━━━━━━━━━╇━━━━━━━━━━━━━━━┩\n",
              "│ input_layer (\u001b[38;5;33mInputLayer\u001b[0m)        │ (\u001b[38;5;45mNone\u001b[0m, \u001b[38;5;34m100\u001b[0m)            │             \u001b[38;5;34m0\u001b[0m │\n",
              "├─────────────────────────────────┼────────────────────────┼───────────────┤\n",
              "│ token_and_position_embedding    │ (\u001b[38;5;45mNone\u001b[0m, \u001b[38;5;34m100\u001b[0m, \u001b[38;5;34m256\u001b[0m)       │     \u001b[38;5;34m2,585,600\u001b[0m │\n",
              "│ (\u001b[38;5;33mTokenAndPositionEmbedding\u001b[0m)     │                        │               │\n",
              "├─────────────────────────────────┼────────────────────────┼───────────────┤\n",
              "│ transformer_encoder             │ (\u001b[38;5;45mNone\u001b[0m, \u001b[38;5;34m100\u001b[0m, \u001b[38;5;34m256\u001b[0m)       │       \u001b[38;5;34m527,104\u001b[0m │\n",
              "│ (\u001b[38;5;33mTransformerEncoder\u001b[0m)            │                        │               │\n",
              "├─────────────────────────────────┼────────────────────────┼───────────────┤\n",
              "│ global_max_pooling1d            │ (\u001b[38;5;45mNone\u001b[0m, \u001b[38;5;34m256\u001b[0m)            │             \u001b[38;5;34m0\u001b[0m │\n",
              "│ (\u001b[38;5;33mGlobalMaxPooling1D\u001b[0m)            │                        │               │\n",
              "├─────────────────────────────────┼────────────────────────┼───────────────┤\n",
              "│ dense (\u001b[38;5;33mDense\u001b[0m)                   │ (\u001b[38;5;45mNone\u001b[0m, \u001b[38;5;34m256\u001b[0m)            │        \u001b[38;5;34m65,792\u001b[0m │\n",
              "├─────────────────────────────────┼────────────────────────┼───────────────┤\n",
              "│ dense_1 (\u001b[38;5;33mDense\u001b[0m)                 │ (\u001b[38;5;45mNone\u001b[0m, \u001b[38;5;34m1\u001b[0m)              │           \u001b[38;5;34m257\u001b[0m │\n",
              "└─────────────────────────────────┴────────────────────────┴───────────────┘\n"
            ]
          },
          "metadata": {},
          "output_type": "display_data"
        },
        {
          "data": {
            "text/html": [
              "<pre style=\"white-space:pre;overflow-x:auto;line-height:normal;font-family:Menlo,'DejaVu Sans Mono',consolas,'Courier New',monospace\"><span style=\"font-weight: bold\"> Total params: </span><span style=\"color: #00af00; text-decoration-color: #00af00\">3,178,753</span> (12.13 MB)\n",
              "</pre>\n"
            ],
            "text/plain": [
              "\u001b[1m Total params: \u001b[0m\u001b[38;5;34m3,178,753\u001b[0m (12.13 MB)\n"
            ]
          },
          "metadata": {},
          "output_type": "display_data"
        },
        {
          "data": {
            "text/html": [
              "<pre style=\"white-space:pre;overflow-x:auto;line-height:normal;font-family:Menlo,'DejaVu Sans Mono',consolas,'Courier New',monospace\"><span style=\"font-weight: bold\"> Trainable params: </span><span style=\"color: #00af00; text-decoration-color: #00af00\">3,178,753</span> (12.13 MB)\n",
              "</pre>\n"
            ],
            "text/plain": [
              "\u001b[1m Trainable params: \u001b[0m\u001b[38;5;34m3,178,753\u001b[0m (12.13 MB)\n"
            ]
          },
          "metadata": {},
          "output_type": "display_data"
        },
        {
          "data": {
            "text/html": [
              "<pre style=\"white-space:pre;overflow-x:auto;line-height:normal;font-family:Menlo,'DejaVu Sans Mono',consolas,'Courier New',monospace\"><span style=\"font-weight: bold\"> Non-trainable params: </span><span style=\"color: #00af00; text-decoration-color: #00af00\">0</span> (0.00 B)\n",
              "</pre>\n"
            ],
            "text/plain": [
              "\u001b[1m Non-trainable params: \u001b[0m\u001b[38;5;34m0\u001b[0m (0.00 B)\n"
            ]
          },
          "metadata": {},
          "output_type": "display_data"
        }
      ],
      "source": [
        "import mlflow\n",
        "import keras\n",
        "import keras_nlp\n",
        "from keras import layers\n",
        "\n",
        "vocab_size = 10000  # Adjust based on your vocabulary size\n",
        "embedding_dim = 256\n",
        "max_length = 100  # Adjust based on your titles' maximum length\n",
        "num_heads = 8  # Number of attention heads in the Transformer encoder\n",
        "intermediate_dim = 512  # Dimensionality of the encoder's intermediate (feed-forward) layer\n",
        "\n",
        "# Define input layer\n",
        "inputs = keras.Input(shape=(max_length,), dtype='int64')\n",
        "\n",
        "# Token and position embedding layer\n",
        "embedding_layer = keras_nlp.layers.TokenAndPositionEmbedding(\n",
        "    vocabulary_size=vocab_size,\n",
        "    sequence_length=max_length,\n",
        "    embedding_dim=embedding_dim,\n",
        ")\n",
        "x = embedding_layer(inputs)\n",
        "\n",
        "# Transformer encoder layer\n",
        "encoder = keras_nlp.layers.TransformerEncoder(\n",
        "    num_heads=num_heads,\n",
        "    intermediate_dim=intermediate_dim,\n",
        "    activation='relu',\n",
        "    dropout=0.1,\n",
        ")\n",
        "x = encoder(x)\n",
        "\n",
        "# GlobalMaxPooling1D layer for regression task\n",
        "x = layers.GlobalMaxPooling1D()(x)\n",
        "\n",
        "# Additional dense layers\n",
        "x = layers.Dense(256, activation='relu')(x)\n",
        "outputs = layers.Dense(1, activation='linear')(x)  # Linear activation for regression\n",
        "\n",
        "# Compile the model\n",
        "model = keras.Model(inputs=inputs, outputs=outputs)\n",
        "model.compile(optimizer=keras.optimizers.Adam(learning_rate=1e-4), loss='mean_squared_error')\n",
        "model.summary()"
      ]
    },
    {
      "cell_type": "code",
      "execution_count": 4,
      "metadata": {
        "jukit_cell_id": "A5CwqIiqkS"
      },
      "outputs": [
        {
          "name": "stderr",
          "output_type": "stream",
          "text": [
            "2024/03/12 17:45:36 INFO mlflow.tracking.fluent: Autologging successfully enabled for tensorflow.\n",
            "2024/03/12 17:45:36 WARNING mlflow.utils.autologging_utils: You are using an unsupported version of sklearn. If you encounter errors during autologging, try upgrading / downgrading sklearn to a supported version, or try upgrading MLflow.\n",
            "2024/03/12 17:45:36 INFO mlflow.tracking.fluent: Autologging successfully enabled for sklearn.\n",
            "Loading and processing data: 8it [00:00, 55.45it/s]"
          ]
        },
        {
          "name": "stdout",
          "output_type": "stream",
          "text": [
            "Epoch 1/15\n"
          ]
        },
        {
          "name": "stderr",
          "output_type": "stream",
          "text": [
            "Loading and processing data: 14it [00:00, 53.26it/s]2024/03/12 17:45:36 WARNING mlflow.utils.autologging_utils: MLflow autologging encountered a warning: \"/home/jay/.local/lib/python3.11/site-packages/keras/src/backend/jax/core.py:73: UserWarning: Explicitly requested dtype int64 requested in asarray is not available, and will be truncated to dtype int32. To enable more dtypes, set the jax_enable_x64 configuration option or the JAX_ENABLE_X64 shell environment variable. See https://github.com/google/jax#current-gotchas for more.\"\n"
          ]
        },
        {
          "name": "stdout",
          "output_type": "stream",
          "text": [
            "\u001b[1m   1/1000\u001b[0m \u001b[37m━━━━━━━━━━━━━━━━━━━━\u001b[0m \u001b[1m1:50:41\u001b[0m 7s/step - loss: 88.3736"
          ]
        },
        {
          "name": "stderr",
          "output_type": "stream",
          "text": [
            "Loading and processing data: 20it [00:06,  2.07it/s]"
          ]
        },
        {
          "name": "stdout",
          "output_type": "stream",
          "text": [
            "\u001b[1m  55/1000\u001b[0m \u001b[32m━\u001b[0m\u001b[37m━━━━━━━━━━━━━━━━━━━\u001b[0m \u001b[1m1s\u001b[0m 2ms/step - loss: 18.6520"
          ]
        },
        {
          "name": "stderr",
          "output_type": "stream",
          "text": [
            "Loading and processing data: 284it [00:07, 56.18it/s]"
          ]
        },
        {
          "name": "stdout",
          "output_type": "stream",
          "text": [
            "\u001b[1m 123/1000\u001b[0m \u001b[32m━━\u001b[0m\u001b[37m━━━━━━━━━━━━━━━━━━\u001b[0m \u001b[1m1s\u001b[0m 2ms/step - loss: 12.1604"
          ]
        },
        {
          "name": "stderr",
          "output_type": "stream",
          "text": [
            "Loading and processing data: 552it [00:07, 130.86it/s]"
          ]
        },
        {
          "name": "stdout",
          "output_type": "stream",
          "text": [
            "\u001b[1m 190/1000\u001b[0m \u001b[32m━━━\u001b[0m\u001b[37m━━━━━━━━━━━━━━━━━\u001b[0m \u001b[1m1s\u001b[0m 2ms/step - loss: 9.4723 "
          ]
        },
        {
          "name": "stderr",
          "output_type": "stream",
          "text": [
            "Loading and processing data: 820it [00:07, 230.42it/s]"
          ]
        },
        {
          "name": "stdout",
          "output_type": "stream",
          "text": [
            "\u001b[1m 258/1000\u001b[0m \u001b[32m━━━━━\u001b[0m\u001b[37m━━━━━━━━━━━━━━━\u001b[0m \u001b[1m1s\u001b[0m 2ms/step - loss: 7.9245"
          ]
        },
        {
          "name": "stderr",
          "output_type": "stream",
          "text": [
            "Loading and processing data: 1084it [00:07, 357.79it/s]"
          ]
        },
        {
          "name": "stdout",
          "output_type": "stream",
          "text": [
            "\u001b[1m 315/1000\u001b[0m \u001b[32m━━━━━━\u001b[0m\u001b[37m━━━━━━━━━━━━━━\u001b[0m \u001b[1m1s\u001b[0m 2ms/step - loss: 7.0116"
          ]
        },
        {
          "name": "stderr",
          "output_type": "stream",
          "text": [
            "Loading and processing data: 1312it [00:07, 492.74it/s]"
          ]
        },
        {
          "name": "stdout",
          "output_type": "stream",
          "text": [
            "\u001b[1m 383/1000\u001b[0m \u001b[32m━━━━━━━\u001b[0m\u001b[37m━━━━━━━━━━━━━\u001b[0m \u001b[1m0s\u001b[0m 2ms/step - loss: 6.1984"
          ]
        },
        {
          "name": "stderr",
          "output_type": "stream",
          "text": [
            "Loading and processing data: 1580it [00:07, 691.97it/s]"
          ]
        },
        {
          "name": "stdout",
          "output_type": "stream",
          "text": [
            "\u001b[1m 448/1000\u001b[0m \u001b[32m━━━━━━━━\u001b[0m\u001b[37m━━━━━━━━━━━━\u001b[0m \u001b[1m0s\u001b[0m 2ms/step - loss: 5.6081"
          ]
        },
        {
          "name": "stderr",
          "output_type": "stream",
          "text": [
            "Loading and processing data: 1832it [00:07, 902.21it/s]"
          ]
        },
        {
          "name": "stdout",
          "output_type": "stream",
          "text": [
            "\u001b[1m 476/1000\u001b[0m \u001b[32m━━━━━━━━━\u001b[0m\u001b[37m━━━━━━━━━━━\u001b[0m \u001b[1m0s\u001b[0m 2ms/step - loss: 5.3939"
          ]
        },
        {
          "name": "stderr",
          "output_type": "stream",
          "text": [
            "2024/03/12 17:45:44 WARNING mlflow.utils.autologging_utils: MLflow autologging encountered a warning: \"/tmp/ipykernel_7172/3258206180.py:35: RuntimeWarning: divide by zero encountered in log\"\n"
          ]
        },
        {
          "name": "stdout",
          "output_type": "stream",
          "text": [
            "\u001b[1m 504/1000\u001b[0m \u001b[32m━━━━━━━━━━\u001b[0m\u001b[37m━━━━━━━━━━\u001b[0m \u001b[1m0s\u001b[0m 2ms/step - loss: 5.1991"
          ]
        },
        {
          "name": "stderr",
          "output_type": "stream",
          "text": [
            "Loading and processing data: 2073it [00:07, 1102.57it/s]"
          ]
        },
        {
          "name": "stdout",
          "output_type": "stream",
          "text": [
            "\u001b[1m 562/1000\u001b[0m \u001b[32m━━━━━━━━━━━\u001b[0m\u001b[37m━━━━━━━━━\u001b[0m \u001b[1m0s\u001b[0m 2ms/step - loss: 4.9225"
          ]
        },
        {
          "name": "stderr",
          "output_type": "stream",
          "text": [
            "Loading and processing data: 2309it [00:07, 1304.71it/s]"
          ]
        },
        {
          "name": "stdout",
          "output_type": "stream",
          "text": [
            "\u001b[1m 620/1000\u001b[0m \u001b[32m━━━━━━━━━━━━\u001b[0m\u001b[37m━━━━━━━━\u001b[0m \u001b[1m0s\u001b[0m 2ms/step - loss: 4.6948"
          ]
        },
        {
          "name": "stderr",
          "output_type": "stream",
          "text": [
            "Loading and processing data: 2543it [00:07, 1495.20it/s]"
          ]
        },
        {
          "name": "stdout",
          "output_type": "stream",
          "text": [
            "\u001b[1m 677/1000\u001b[0m \u001b[32m━━━━━━━━━━━━━\u001b[0m\u001b[37m━━━━━━━\u001b[0m \u001b[1m0s\u001b[0m 2ms/step - loss: 4.5049"
          ]
        },
        {
          "name": "stderr",
          "output_type": "stream",
          "text": [
            "Loading and processing data: 2775it [00:08, 1661.92it/s]"
          ]
        },
        {
          "name": "stdout",
          "output_type": "stream",
          "text": [
            "\u001b[1m 731/1000\u001b[0m \u001b[32m━━━━━━━━━━━━━━\u001b[0m\u001b[37m━━━━━━\u001b[0m \u001b[1m0s\u001b[0m 2ms/step - loss: 4.3594"
          ]
        },
        {
          "name": "stderr",
          "output_type": "stream",
          "text": [
            "Loading and processing data: 3006it [00:08, 1775.01it/s]"
          ]
        },
        {
          "name": "stdout",
          "output_type": "stream",
          "text": [
            "\u001b[1m 784/1000\u001b[0m \u001b[32m━━━━━━━━━━━━━━━\u001b[0m\u001b[37m━━━━━\u001b[0m \u001b[1m0s\u001b[0m 2ms/step - loss: 4.2461"
          ]
        },
        {
          "name": "stderr",
          "output_type": "stream",
          "text": [
            "Loading and processing data: 3231it [00:08, 1878.94it/s]"
          ]
        },
        {
          "name": "stdout",
          "output_type": "stream",
          "text": [
            "\u001b[1m 849/1000\u001b[0m \u001b[32m━━━━━━━━━━━━━━━━\u001b[0m\u001b[37m━━━━\u001b[0m \u001b[1m0s\u001b[0m 2ms/step - loss: 4.1351"
          ]
        },
        {
          "name": "stderr",
          "output_type": "stream",
          "text": [
            "Loading and processing data: 3500it [00:08, 2083.48it/s]"
          ]
        },
        {
          "name": "stdout",
          "output_type": "stream",
          "text": [
            "\u001b[1m 916/1000\u001b[0m \u001b[32m━━━━━━━━━━━━━━━━━━\u001b[0m\u001b[37m━━\u001b[0m \u001b[1m0s\u001b[0m 2ms/step - loss: 4.0388"
          ]
        },
        {
          "name": "stderr",
          "output_type": "stream",
          "text": [
            "Loading and processing data: 3768it [00:08, 2242.86it/s]"
          ]
        },
        {
          "name": "stdout",
          "output_type": "stream",
          "text": [
            "\u001b[1m1000/1000\u001b[0m \u001b[32m━━━━━━━━━━━━━━━━━━━━\u001b[0m\u001b[37m\u001b[0m \u001b[1m8s\u001b[0m 2ms/step - loss: 3.9302\n",
            "Epoch 2/15\n"
          ]
        },
        {
          "name": "stderr",
          "output_type": "stream",
          "text": [
            "Loading and processing data: 4014it [00:08, 2048.78it/s]"
          ]
        },
        {
          "name": "stdout",
          "output_type": "stream",
          "text": [
            "\u001b[1m  35/1000\u001b[0m \u001b[37m━━━━━━━━━━━━━━━━━━━━\u001b[0m \u001b[1m1s\u001b[0m 1ms/step - loss: 21.8961"
          ]
        },
        {
          "name": "stderr",
          "output_type": "stream",
          "text": [
            "Loading and processing data: 4268it [00:08, 2170.60it/s]"
          ]
        },
        {
          "name": "stdout",
          "output_type": "stream",
          "text": [
            "\u001b[1m 103/1000\u001b[0m \u001b[32m━━\u001b[0m\u001b[37m━━━━━━━━━━━━━━━━━━\u001b[0m \u001b[1m1s\u001b[0m 1ms/step - loss: 13.5023"
          ]
        },
        {
          "name": "stderr",
          "output_type": "stream",
          "text": [
            "Loading and processing data: 4536it [00:08, 2304.97it/s]"
          ]
        },
        {
          "name": "stdout",
          "output_type": "stream",
          "text": [
            "\u001b[1m 170/1000\u001b[0m \u001b[32m━━━\u001b[0m\u001b[37m━━━━━━━━━━━━━━━━━\u001b[0m \u001b[1m1s\u001b[0m 2ms/step - loss: 10.0989"
          ]
        },
        {
          "name": "stderr",
          "output_type": "stream",
          "text": [
            "Loading and processing data: 4800it [00:08, 2393.69it/s]"
          ]
        },
        {
          "name": "stdout",
          "output_type": "stream",
          "text": [
            "\u001b[1m 237/1000\u001b[0m \u001b[32m━━━━\u001b[0m\u001b[37m━━━━━━━━━━━━━━━━\u001b[0m \u001b[1m1s\u001b[0m 2ms/step - loss: 8.3166"
          ]
        },
        {
          "name": "stderr",
          "output_type": "stream",
          "text": [
            "Loading and processing data: 5064it [00:09, 2461.16it/s]"
          ]
        },
        {
          "name": "stdout",
          "output_type": "stream",
          "text": [
            "\u001b[1m 304/1000\u001b[0m \u001b[32m━━━━━━\u001b[0m\u001b[37m━━━━━━━━━━━━━━\u001b[0m \u001b[1m1s\u001b[0m 2ms/step - loss: 7.2652"
          ]
        },
        {
          "name": "stderr",
          "output_type": "stream",
          "text": [
            "Loading and processing data: 5328it [00:09, 2505.73it/s]"
          ]
        },
        {
          "name": "stdout",
          "output_type": "stream",
          "text": [
            "\u001b[1m 366/1000\u001b[0m \u001b[32m━━━━━━━\u001b[0m\u001b[37m━━━━━━━━━━━━━\u001b[0m \u001b[1m0s\u001b[0m 2ms/step - loss: 6.5620"
          ]
        },
        {
          "name": "stderr",
          "output_type": "stream",
          "text": [
            "Loading and processing data: 5584it [00:09, 2483.43it/s]"
          ]
        },
        {
          "name": "stdout",
          "output_type": "stream",
          "text": [
            "\u001b[1m 433/1000\u001b[0m \u001b[32m━━━━━━━━\u001b[0m\u001b[37m━━━━━━━━━━━━\u001b[0m \u001b[1m0s\u001b[0m 2ms/step - loss: 5.9760"
          ]
        },
        {
          "name": "stderr",
          "output_type": "stream",
          "text": [
            "Loading and processing data: 5856it [00:09, 2543.19it/s]"
          ]
        },
        {
          "name": "stdout",
          "output_type": "stream",
          "text": [
            "\u001b[1m 500/1000\u001b[0m \u001b[32m━━━━━━━━━━\u001b[0m\u001b[37m━━━━━━━━━━\u001b[0m \u001b[1m0s\u001b[0m 2ms/step - loss: 5.5128"
          ]
        },
        {
          "name": "stderr",
          "output_type": "stream",
          "text": [
            "Loading and processing data: 6120it [00:09, 2567.87it/s]"
          ]
        },
        {
          "name": "stdout",
          "output_type": "stream",
          "text": [
            "\u001b[1m 568/1000\u001b[0m \u001b[32m━━━━━━━━━━━\u001b[0m\u001b[37m━━━━━━━━━\u001b[0m \u001b[1m0s\u001b[0m 2ms/step - loss: 5.1321"
          ]
        },
        {
          "name": "stderr",
          "output_type": "stream",
          "text": [
            "Loading and processing data: 6388it [00:09, 2600.50it/s]"
          ]
        },
        {
          "name": "stdout",
          "output_type": "stream",
          "text": [
            "\u001b[1m 637/1000\u001b[0m \u001b[32m━━━━━━━━━━━━\u001b[0m\u001b[37m━━━━━━━━\u001b[0m \u001b[1m0s\u001b[0m 2ms/step - loss: 4.8135"
          ]
        },
        {
          "name": "stderr",
          "output_type": "stream",
          "text": [
            "Loading and processing data: 6664it [00:09, 2636.08it/s]"
          ]
        },
        {
          "name": "stdout",
          "output_type": "stream",
          "text": [
            "\u001b[1m 705/1000\u001b[0m \u001b[32m━━━━━━━━━━━━━━\u001b[0m\u001b[37m━━━━━━\u001b[0m \u001b[1m0s\u001b[0m 2ms/step - loss: 4.5478"
          ]
        },
        {
          "name": "stderr",
          "output_type": "stream",
          "text": [
            "Loading and processing data: 6932it [00:09, 2644.93it/s]"
          ]
        },
        {
          "name": "stdout",
          "output_type": "stream",
          "text": [
            "\u001b[1m 772/1000\u001b[0m \u001b[32m━━━━━━━━━━━━━━━\u001b[0m\u001b[37m━━━━━\u001b[0m \u001b[1m0s\u001b[0m 2ms/step - loss: 4.3253"
          ]
        },
        {
          "name": "stderr",
          "output_type": "stream",
          "text": [
            "Loading and processing data: 7200it [00:09, 2644.88it/s]"
          ]
        },
        {
          "name": "stdout",
          "output_type": "stream",
          "text": [
            "\u001b[1m 840/1000\u001b[0m \u001b[32m━━━━━━━━━━━━━━━━\u001b[0m\u001b[37m━━━━\u001b[0m \u001b[1m0s\u001b[0m 2ms/step - loss: 4.1332"
          ]
        },
        {
          "name": "stderr",
          "output_type": "stream",
          "text": [
            "Loading and processing data: 7468it [00:09, 2644.76it/s]"
          ]
        },
        {
          "name": "stdout",
          "output_type": "stream",
          "text": [
            "\u001b[1m 907/1000\u001b[0m \u001b[32m━━━━━━━━━━━━━━━━━━\u001b[0m\u001b[37m━━\u001b[0m \u001b[1m0s\u001b[0m 2ms/step - loss: 3.9710"
          ]
        },
        {
          "name": "stderr",
          "output_type": "stream",
          "text": [
            "Loading and processing data: 7736it [00:10, 2650.32it/s]"
          ]
        },
        {
          "name": "stdout",
          "output_type": "stream",
          "text": [
            "\u001b[1m 969/1000\u001b[0m \u001b[32m━━━━━━━━━━━━━━━━━━━\u001b[0m\u001b[37m━\u001b[0m \u001b[1m0s\u001b[0m 2ms/step - loss: 3.8379"
          ]
        },
        {
          "name": "stderr",
          "output_type": "stream",
          "text": [
            "Loading and processing data: 8002it [00:10, 2582.97it/s]"
          ]
        },
        {
          "name": "stdout",
          "output_type": "stream",
          "text": [
            "\u001b[1m1000/1000\u001b[0m \u001b[32m━━━━━━━━━━━━━━━━━━━━\u001b[0m\u001b[37m\u001b[0m \u001b[1m2s\u001b[0m 2ms/step - loss: 3.7745\n",
            "Epoch 3/15\n",
            "\u001b[1m  35/1000\u001b[0m \u001b[37m━━━━━━━━━━━━━━━━━━━━\u001b[0m \u001b[1m1s\u001b[0m 2ms/step - loss: 0.9913"
          ]
        },
        {
          "name": "stderr",
          "output_type": "stream",
          "text": [
            "Loading and processing data: 8261it [00:10, 2584.28it/s]"
          ]
        },
        {
          "name": "stdout",
          "output_type": "stream",
          "text": [
            "\u001b[1m 103/1000\u001b[0m \u001b[32m━━\u001b[0m\u001b[37m━━━━━━━━━━━━━━━━━━\u001b[0m \u001b[1m1s\u001b[0m 1ms/step - loss: 0.9756"
          ]
        },
        {
          "name": "stderr",
          "output_type": "stream",
          "text": [
            "Loading and processing data: 8528it [00:10, 2607.21it/s]"
          ]
        },
        {
          "name": "stdout",
          "output_type": "stream",
          "text": [
            "\u001b[1m 171/1000\u001b[0m \u001b[32m━━━\u001b[0m\u001b[37m━━━━━━━━━━━━━━━━━\u001b[0m \u001b[1m1s\u001b[0m 1ms/step - loss: 1.0322"
          ]
        },
        {
          "name": "stderr",
          "output_type": "stream",
          "text": [
            "Loading and processing data: 8796it [00:10, 2626.96it/s]"
          ]
        },
        {
          "name": "stdout",
          "output_type": "stream",
          "text": [
            "\u001b[1m 239/1000\u001b[0m \u001b[32m━━━━\u001b[0m\u001b[37m━━━━━━━━━━━━━━━━\u001b[0m \u001b[1m1s\u001b[0m 1ms/step - loss: 1.0750"
          ]
        },
        {
          "name": "stderr",
          "output_type": "stream",
          "text": [
            "Loading and processing data: 9060it [00:10, 2625.14it/s]"
          ]
        },
        {
          "name": "stdout",
          "output_type": "stream",
          "text": [
            "\u001b[1m 306/1000\u001b[0m \u001b[32m━━━━━━\u001b[0m\u001b[37m━━━━━━━━━━━━━━\u001b[0m \u001b[1m1s\u001b[0m 2ms/step - loss: 1.0872"
          ]
        },
        {
          "name": "stderr",
          "output_type": "stream",
          "text": [
            "Loading and processing data: 9328it [00:10, 2634.88it/s]"
          ]
        },
        {
          "name": "stdout",
          "output_type": "stream",
          "text": [
            "\u001b[1m 373/1000\u001b[0m \u001b[32m━━━━━━━\u001b[0m\u001b[37m━━━━━━━━━━━━━\u001b[0m \u001b[1m0s\u001b[0m 2ms/step - loss: 1.0762"
          ]
        },
        {
          "name": "stderr",
          "output_type": "stream",
          "text": [
            "Loading and processing data: 9592it [00:10, 2632.11it/s]"
          ]
        },
        {
          "name": "stdout",
          "output_type": "stream",
          "text": [
            "\u001b[1m 439/1000\u001b[0m \u001b[32m━━━━━━━━\u001b[0m\u001b[37m━━━━━━━━━━━━\u001b[0m \u001b[1m0s\u001b[0m 2ms/step - loss: 1.0690"
          ]
        },
        {
          "name": "stderr",
          "output_type": "stream",
          "text": [
            "Loading and processing data: 9856it [00:10, 2583.99it/s]"
          ]
        },
        {
          "name": "stdout",
          "output_type": "stream",
          "text": [
            "\u001b[1m 523/1000\u001b[0m \u001b[32m━━━━━━━━━━\u001b[0m\u001b[37m━━━━━━━━━━\u001b[0m \u001b[1m0s\u001b[0m 2ms/step - loss: 1.0689"
          ]
        },
        {
          "name": "stderr",
          "output_type": "stream",
          "text": [
            "Loading and processing data: 10115it [00:10, 2450.10it/s]"
          ]
        },
        {
          "name": "stdout",
          "output_type": "stream",
          "text": [
            "\u001b[1m 591/1000\u001b[0m \u001b[32m━━━━━━━━━━━\u001b[0m\u001b[37m━━━━━━━━━\u001b[0m \u001b[1m0s\u001b[0m 2ms/step - loss: 1.0746"
          ]
        },
        {
          "name": "stderr",
          "output_type": "stream",
          "text": [
            "Loading and processing data: 10384it [00:11, 2513.60it/s]"
          ]
        },
        {
          "name": "stdout",
          "output_type": "stream",
          "text": [
            "\u001b[1m 659/1000\u001b[0m \u001b[32m━━━━━━━━━━━━━\u001b[0m\u001b[37m━━━━━━━\u001b[0m \u001b[1m0s\u001b[0m 2ms/step - loss: 1.1118"
          ]
        },
        {
          "name": "stderr",
          "output_type": "stream",
          "text": [
            "Loading and processing data: 10653it [00:11, 2564.50it/s]"
          ]
        },
        {
          "name": "stdout",
          "output_type": "stream",
          "text": [
            "\u001b[1m 727/1000\u001b[0m \u001b[32m━━━━━━━━━━━━━━\u001b[0m\u001b[37m━━━━━━\u001b[0m \u001b[1m0s\u001b[0m 2ms/step - loss: 1.1633"
          ]
        },
        {
          "name": "stderr",
          "output_type": "stream",
          "text": [
            "Loading and processing data: 10924it [00:11, 2598.32it/s]"
          ]
        },
        {
          "name": "stdout",
          "output_type": "stream",
          "text": [
            "\u001b[1m 796/1000\u001b[0m \u001b[32m━━━━━━━━━━━━━━━\u001b[0m\u001b[37m━━━━━\u001b[0m \u001b[1m0s\u001b[0m 2ms/step - loss: 1.2135"
          ]
        },
        {
          "name": "stderr",
          "output_type": "stream",
          "text": [
            "Loading and processing data: 11196it [00:11, 2628.52it/s]"
          ]
        },
        {
          "name": "stdout",
          "output_type": "stream",
          "text": [
            "\u001b[1m 864/1000\u001b[0m \u001b[32m━━━━━━━━━━━━━━━━━\u001b[0m\u001b[37m━━━\u001b[0m \u001b[1m0s\u001b[0m 2ms/step - loss: 1.2602"
          ]
        },
        {
          "name": "stderr",
          "output_type": "stream",
          "text": [
            "Loading and processing data: 11468it [00:11, 2647.04it/s]"
          ]
        },
        {
          "name": "stdout",
          "output_type": "stream",
          "text": [
            "\u001b[1m 932/1000\u001b[0m \u001b[32m━━━━━━━━━━━━━━━━━━\u001b[0m\u001b[37m━━\u001b[0m \u001b[1m0s\u001b[0m 2ms/step - loss: 1.3057"
          ]
        },
        {
          "name": "stderr",
          "output_type": "stream",
          "text": [
            "Loading and processing data: 11740it [00:11, 2658.14it/s]"
          ]
        },
        {
          "name": "stdout",
          "output_type": "stream",
          "text": [
            "\u001b[1m1000/1000\u001b[0m \u001b[32m━━━━━━━━━━━━━━━━━━━━\u001b[0m\u001b[37m\u001b[0m \u001b[1m2s\u001b[0m 2ms/step - loss: 1.3484\n",
            "Epoch 4/15\n"
          ]
        },
        {
          "name": "stderr",
          "output_type": "stream",
          "text": [
            "Loading and processing data: 12012it [00:11, 2645.14it/s]"
          ]
        },
        {
          "name": "stdout",
          "output_type": "stream",
          "text": [
            "\u001b[1m  34/1000\u001b[0m \u001b[37m━━━━━━━━━━━━━━━━━━━━\u001b[0m \u001b[1m1s\u001b[0m 2ms/step - loss: 2.2183"
          ]
        },
        {
          "name": "stderr",
          "output_type": "stream",
          "text": [
            "Loading and processing data: 12277it [00:11, 2645.38it/s]"
          ]
        },
        {
          "name": "stdout",
          "output_type": "stream",
          "text": [
            "\u001b[1m 129/1000\u001b[0m \u001b[32m━━\u001b[0m\u001b[37m━━━━━━━━━━━━━━━━━━\u001b[0m \u001b[1m1s\u001b[0m 2ms/step - loss: 2.1609"
          ]
        },
        {
          "name": "stderr",
          "output_type": "stream",
          "text": [
            "Loading and processing data: 12542it [00:11, 2569.85it/s]"
          ]
        },
        {
          "name": "stdout",
          "output_type": "stream",
          "text": [
            "\u001b[1m 195/1000\u001b[0m \u001b[32m━━━\u001b[0m\u001b[37m━━━━━━━━━━━━━━━━━\u001b[0m \u001b[1m1s\u001b[0m 2ms/step - loss: 2.2319"
          ]
        },
        {
          "name": "stderr",
          "output_type": "stream",
          "text": [
            "Loading and processing data: 12804it [00:11, 2579.06it/s]"
          ]
        },
        {
          "name": "stdout",
          "output_type": "stream",
          "text": [
            "\u001b[1m 262/1000\u001b[0m \u001b[32m━━━━━\u001b[0m\u001b[37m━━━━━━━━━━━━━━━\u001b[0m \u001b[1m1s\u001b[0m 2ms/step - loss: 2.3532"
          ]
        },
        {
          "name": "stderr",
          "output_type": "stream",
          "text": [
            "Loading and processing data: 13072it [00:12, 2599.34it/s]"
          ]
        },
        {
          "name": "stdout",
          "output_type": "stream",
          "text": [
            "\u001b[1m 329/1000\u001b[0m \u001b[32m━━━━━━\u001b[0m\u001b[37m━━━━━━━━━━━━━━\u001b[0m \u001b[1m1s\u001b[0m 2ms/step - loss: 2.4204"
          ]
        },
        {
          "name": "stderr",
          "output_type": "stream",
          "text": [
            "Loading and processing data: 13340it [00:12, 2613.39it/s]"
          ]
        },
        {
          "name": "stdout",
          "output_type": "stream",
          "text": [
            "\u001b[1m 397/1000\u001b[0m \u001b[32m━━━━━━━\u001b[0m\u001b[37m━━━━━━━━━━━━━\u001b[0m \u001b[1m0s\u001b[0m 2ms/step - loss: 2.4454"
          ]
        },
        {
          "name": "stderr",
          "output_type": "stream",
          "text": [
            "Loading and processing data: 13608it [00:12, 2627.06it/s]"
          ]
        },
        {
          "name": "stdout",
          "output_type": "stream",
          "text": [
            "\u001b[1m 464/1000\u001b[0m \u001b[32m━━━━━━━━━\u001b[0m\u001b[37m━━━━━━━━━━━\u001b[0m \u001b[1m0s\u001b[0m 2ms/step - loss: 2.4500"
          ]
        },
        {
          "name": "stderr",
          "output_type": "stream",
          "text": [
            "Loading and processing data: 13872it [00:12, 2624.60it/s]"
          ]
        },
        {
          "name": "stdout",
          "output_type": "stream",
          "text": [
            "\u001b[1m 530/1000\u001b[0m \u001b[32m━━━━━━━━━━\u001b[0m\u001b[37m━━━━━━━━━━\u001b[0m \u001b[1m0s\u001b[0m 2ms/step - loss: 2.4350"
          ]
        },
        {
          "name": "stderr",
          "output_type": "stream",
          "text": [
            "Loading and processing data: 14135it [00:12, 2619.60it/s]"
          ]
        },
        {
          "name": "stdout",
          "output_type": "stream",
          "text": [
            "\u001b[1m 593/1000\u001b[0m \u001b[32m━━━━━━━━━━━\u001b[0m\u001b[37m━━━━━━━━━\u001b[0m \u001b[1m0s\u001b[0m 2ms/step - loss: 2.4101"
          ]
        },
        {
          "name": "stderr",
          "output_type": "stream",
          "text": [
            "Loading and processing data: 14398it [00:12, 2575.76it/s]"
          ]
        },
        {
          "name": "stdout",
          "output_type": "stream",
          "text": [
            "\u001b[1m 657/1000\u001b[0m \u001b[32m━━━━━━━━━━━━━\u001b[0m\u001b[37m━━━━━━━\u001b[0m \u001b[1m0s\u001b[0m 2ms/step - loss: 2.3940"
          ]
        },
        {
          "name": "stderr",
          "output_type": "stream",
          "text": [
            "Loading and processing data: 14656it [00:12, 2543.88it/s]"
          ]
        },
        {
          "name": "stdout",
          "output_type": "stream",
          "text": [
            "\u001b[1m 720/1000\u001b[0m \u001b[32m━━━━━━━━━━━━━━\u001b[0m\u001b[37m━━━━━━\u001b[0m \u001b[1m0s\u001b[0m 2ms/step - loss: 2.3836"
          ]
        },
        {
          "name": "stderr",
          "output_type": "stream",
          "text": [
            "Loading and processing data: 14911it [00:12, 2539.89it/s]"
          ]
        },
        {
          "name": "stdout",
          "output_type": "stream",
          "text": [
            "\u001b[1m 787/1000\u001b[0m \u001b[32m━━━━━━━━━━━━━━━\u001b[0m\u001b[37m━━━━━\u001b[0m \u001b[1m0s\u001b[0m 2ms/step - loss: 2.3866"
          ]
        },
        {
          "name": "stderr",
          "output_type": "stream",
          "text": [
            "Loading and processing data: 15176it [00:12, 2570.05it/s]"
          ]
        },
        {
          "name": "stdout",
          "output_type": "stream",
          "text": [
            "\u001b[1m 855/1000\u001b[0m \u001b[32m━━━━━━━━━━━━━━━━━\u001b[0m\u001b[37m━━━\u001b[0m \u001b[1m0s\u001b[0m 2ms/step - loss: 2.4027"
          ]
        },
        {
          "name": "stderr",
          "output_type": "stream",
          "text": [
            "Loading and processing data: 15448it [00:12, 2607.14it/s]"
          ]
        },
        {
          "name": "stdout",
          "output_type": "stream",
          "text": [
            "\u001b[1m 924/1000\u001b[0m \u001b[32m━━━━━━━━━━━━━━━━━━\u001b[0m\u001b[37m━━\u001b[0m \u001b[1m0s\u001b[0m 2ms/step - loss: 2.4246"
          ]
        },
        {
          "name": "stderr",
          "output_type": "stream",
          "text": [
            "Loading and processing data: 15720it [00:13, 2635.77it/s]"
          ]
        },
        {
          "name": "stdout",
          "output_type": "stream",
          "text": [
            "\u001b[1m 991/1000\u001b[0m \u001b[32m━━━━━━━━━━━━━━━━━━━\u001b[0m\u001b[37m━\u001b[0m \u001b[1m0s\u001b[0m 2ms/step - loss: 2.4355"
          ]
        },
        {
          "name": "stderr",
          "output_type": "stream",
          "text": [
            "Loading and processing data: 15988it [00:13, 2645.31it/s]"
          ]
        },
        {
          "name": "stdout",
          "output_type": "stream",
          "text": [
            "\u001b[1m1000/1000\u001b[0m \u001b[32m━━━━━━━━━━━━━━━━━━━━\u001b[0m\u001b[37m\u001b[0m \u001b[1m2s\u001b[0m 2ms/step - loss: 2.4368\n",
            "Epoch 5/15\n",
            "\u001b[1m  35/1000\u001b[0m \u001b[37m━━━━━━━━━━━━━━━━━━━━\u001b[0m \u001b[1m1s\u001b[0m 1ms/step - loss: 2.6500"
          ]
        },
        {
          "name": "stderr",
          "output_type": "stream",
          "text": [
            "Loading and processing data: 16253it [00:13, 2626.77it/s]"
          ]
        },
        {
          "name": "stdout",
          "output_type": "stream",
          "text": [
            "\u001b[1m 101/1000\u001b[0m \u001b[32m━━\u001b[0m\u001b[37m━━━━━━━━━━━━━━━━━━\u001b[0m \u001b[1m1s\u001b[0m 2ms/step - loss: 3.8620"
          ]
        },
        {
          "name": "stderr",
          "output_type": "stream",
          "text": [
            "Loading and processing data: 16516it [00:13, 2618.65it/s]"
          ]
        },
        {
          "name": "stdout",
          "output_type": "stream",
          "text": [
            "\u001b[1m 165/1000\u001b[0m \u001b[32m━━━\u001b[0m\u001b[37m━━━━━━━━━━━━━━━━━\u001b[0m \u001b[1m1s\u001b[0m 2ms/step - loss: 4.3504"
          ]
        },
        {
          "name": "stderr",
          "output_type": "stream",
          "text": [
            "Loading and processing data: 16778it [00:13, 2584.82it/s]"
          ]
        },
        {
          "name": "stdout",
          "output_type": "stream",
          "text": [
            "\u001b[1m 232/1000\u001b[0m \u001b[32m━━━━\u001b[0m\u001b[37m━━━━━━━━━━━━━━━━\u001b[0m \u001b[1m1s\u001b[0m 2ms/step - loss: 4.4794"
          ]
        },
        {
          "name": "stderr",
          "output_type": "stream",
          "text": [
            "Loading and processing data: 17048it [00:13, 2612.32it/s]"
          ]
        },
        {
          "name": "stdout",
          "output_type": "stream",
          "text": [
            "\u001b[1m 301/1000\u001b[0m \u001b[32m━━━━━━\u001b[0m\u001b[37m━━━━━━━━━━━━━━\u001b[0m \u001b[1m1s\u001b[0m 2ms/step - loss: 4.6401"
          ]
        },
        {
          "name": "stderr",
          "output_type": "stream",
          "text": [
            "Loading and processing data: 17316it [00:13, 2625.92it/s]"
          ]
        },
        {
          "name": "stdout",
          "output_type": "stream",
          "text": [
            "\u001b[1m 368/1000\u001b[0m \u001b[32m━━━━━━━\u001b[0m\u001b[37m━━━━━━━━━━━━━\u001b[0m \u001b[1m0s\u001b[0m 2ms/step - loss: 4.7886"
          ]
        },
        {
          "name": "stderr",
          "output_type": "stream",
          "text": [
            "Loading and processing data: 17584it [00:13, 2633.37it/s]"
          ]
        },
        {
          "name": "stdout",
          "output_type": "stream",
          "text": [
            "\u001b[1m 436/1000\u001b[0m \u001b[32m━━━━━━━━\u001b[0m\u001b[37m━━━━━━━━━━━━\u001b[0m \u001b[1m0s\u001b[0m 2ms/step - loss: 4.8510"
          ]
        },
        {
          "name": "stderr",
          "output_type": "stream",
          "text": [
            "Loading and processing data: 17852it [00:13, 2646.56it/s]"
          ]
        },
        {
          "name": "stdout",
          "output_type": "stream",
          "text": [
            "\u001b[1m 504/1000\u001b[0m \u001b[32m━━━━━━━━━━\u001b[0m\u001b[37m━━━━━━━━━━\u001b[0m \u001b[1m0s\u001b[0m 2ms/step - loss: 4.8324"
          ]
        },
        {
          "name": "stderr",
          "output_type": "stream",
          "text": [
            "Loading and processing data: 18117it [00:14, 2622.64it/s]"
          ]
        },
        {
          "name": "stdout",
          "output_type": "stream",
          "text": [
            "\u001b[1m 590/1000\u001b[0m \u001b[32m━━━━━━━━━━━\u001b[0m\u001b[37m━━━━━━━━━\u001b[0m \u001b[1m0s\u001b[0m 2ms/step - loss: 4.7507"
          ]
        },
        {
          "name": "stderr",
          "output_type": "stream",
          "text": [
            "Loading and processing data: 18380it [00:14, 2475.29it/s]"
          ]
        },
        {
          "name": "stdout",
          "output_type": "stream",
          "text": [
            "\u001b[1m 647/1000\u001b[0m \u001b[32m━━━━━━━━━━━━\u001b[0m\u001b[37m━━━━━━━━\u001b[0m \u001b[1m0s\u001b[0m 2ms/step - loss: 4.6850"
          ]
        },
        {
          "name": "stderr",
          "output_type": "stream",
          "text": [
            "Loading and processing data: 18630it [00:14, 2407.86it/s]"
          ]
        },
        {
          "name": "stdout",
          "output_type": "stream",
          "text": [
            "\u001b[1m 699/1000\u001b[0m \u001b[32m━━━━━━━━━━━━━\u001b[0m\u001b[37m━━━━━━━\u001b[0m \u001b[1m0s\u001b[0m 2ms/step - loss: 4.6198"
          ]
        },
        {
          "name": "stderr",
          "output_type": "stream",
          "text": [
            "Loading and processing data: 18873it [00:14, 2325.41it/s]"
          ]
        },
        {
          "name": "stdout",
          "output_type": "stream",
          "text": [
            "\u001b[1m 767/1000\u001b[0m \u001b[32m━━━━━━━━━━━━━━━\u001b[0m\u001b[37m━━━━━\u001b[0m \u001b[1m0s\u001b[0m 2ms/step - loss: 4.5311"
          ]
        },
        {
          "name": "stderr",
          "output_type": "stream",
          "text": [
            "Loading and processing data: 19148it [00:14, 2435.48it/s]"
          ]
        },
        {
          "name": "stdout",
          "output_type": "stream",
          "text": [
            "\u001b[1m 835/1000\u001b[0m \u001b[32m━━━━━━━━━━━━━━━━\u001b[0m\u001b[37m━━━━\u001b[0m \u001b[1m0s\u001b[0m 2ms/step - loss: 4.4505"
          ]
        },
        {
          "name": "stderr",
          "output_type": "stream",
          "text": [
            "Loading and processing data: 19416it [00:14, 2498.23it/s]"
          ]
        },
        {
          "name": "stdout",
          "output_type": "stream",
          "text": [
            "\u001b[1m 901/1000\u001b[0m \u001b[32m━━━━━━━━━━━━━━━━━━\u001b[0m\u001b[37m━━\u001b[0m \u001b[1m0s\u001b[0m 2ms/step - loss: 4.3688"
          ]
        },
        {
          "name": "stderr",
          "output_type": "stream",
          "text": [
            "Loading and processing data: 19676it [00:14, 2520.64it/s]"
          ]
        },
        {
          "name": "stdout",
          "output_type": "stream",
          "text": [
            "\u001b[1m 965/1000\u001b[0m \u001b[32m━━━━━━━━━━━━━━━━━━━\u001b[0m\u001b[37m━\u001b[0m \u001b[1m0s\u001b[0m 2ms/step - loss: 4.2860"
          ]
        },
        {
          "name": "stderr",
          "output_type": "stream",
          "text": [
            "Loading and processing data: 19932it [00:14, 2524.74it/s]"
          ]
        },
        {
          "name": "stdout",
          "output_type": "stream",
          "text": [
            "\u001b[1m1000/1000\u001b[0m \u001b[32m━━━━━━━━━━━━━━━━━━━━\u001b[0m\u001b[37m\u001b[0m \u001b[1m2s\u001b[0m 2ms/step - loss: 4.2389\n",
            "Epoch 6/15\n",
            "\u001b[1m  34/1000\u001b[0m \u001b[37m━━━━━━━━━━━━━━━━━━━━\u001b[0m \u001b[1m1s\u001b[0m 2ms/step - loss: 0.4069"
          ]
        },
        {
          "name": "stderr",
          "output_type": "stream",
          "text": [
            "Loading and processing data: 20186it [00:14, 2517.49it/s]"
          ]
        },
        {
          "name": "stdout",
          "output_type": "stream",
          "text": [
            "\u001b[1m 101/1000\u001b[0m \u001b[32m━━\u001b[0m\u001b[37m━━━━━━━━━━━━━━━━━━\u001b[0m \u001b[1m1s\u001b[0m 2ms/step - loss: 0.4054"
          ]
        },
        {
          "name": "stderr",
          "output_type": "stream",
          "text": [
            "Loading and processing data: 20452it [00:14, 2552.44it/s]"
          ]
        },
        {
          "name": "stdout",
          "output_type": "stream",
          "text": [
            "\u001b[1m 164/1000\u001b[0m \u001b[32m━━━\u001b[0m\u001b[37m━━━━━━━━━━━━━━━━━\u001b[0m \u001b[1m1s\u001b[0m 2ms/step - loss: 0.4099"
          ]
        },
        {
          "name": "stderr",
          "output_type": "stream",
          "text": [
            "Loading and processing data: 20708it [00:15, 2527.29it/s]"
          ]
        },
        {
          "name": "stdout",
          "output_type": "stream",
          "text": [
            "\u001b[1m 233/1000\u001b[0m \u001b[32m━━━━\u001b[0m\u001b[37m━━━━━━━━━━━━━━━━\u001b[0m \u001b[1m1s\u001b[0m 2ms/step - loss: 0.4211"
          ]
        },
        {
          "name": "stderr",
          "output_type": "stream",
          "text": [
            "Loading and processing data: 20980it [00:15, 2579.90it/s]"
          ]
        },
        {
          "name": "stdout",
          "output_type": "stream",
          "text": [
            "\u001b[1m 301/1000\u001b[0m \u001b[32m━━━━━━\u001b[0m\u001b[37m━━━━━━━━━━━━━━\u001b[0m \u001b[1m1s\u001b[0m 2ms/step - loss: 0.4988"
          ]
        },
        {
          "name": "stderr",
          "output_type": "stream",
          "text": [
            "Loading and processing data: 21248it [00:15, 2603.53it/s]"
          ]
        },
        {
          "name": "stdout",
          "output_type": "stream",
          "text": [
            "\u001b[1m 369/1000\u001b[0m \u001b[32m━━━━━━━\u001b[0m\u001b[37m━━━━━━━━━━━━━\u001b[0m \u001b[1m0s\u001b[0m 2ms/step - loss: 0.6145"
          ]
        },
        {
          "name": "stderr",
          "output_type": "stream",
          "text": [
            "Loading and processing data: 21520it [00:15, 2632.20it/s]"
          ]
        },
        {
          "name": "stdout",
          "output_type": "stream",
          "text": [
            "\u001b[1m 437/1000\u001b[0m \u001b[32m━━━━━━━━\u001b[0m\u001b[37m━━━━━━━━━━━━\u001b[0m \u001b[1m0s\u001b[0m 2ms/step - loss: 0.7110"
          ]
        },
        {
          "name": "stderr",
          "output_type": "stream",
          "text": [
            "Loading and processing data: 21788it [00:15, 2645.59it/s]"
          ]
        },
        {
          "name": "stdout",
          "output_type": "stream",
          "text": [
            "\u001b[1m 505/1000\u001b[0m \u001b[32m━━━━━━━━━━\u001b[0m\u001b[37m━━━━━━━━━━\u001b[0m \u001b[1m0s\u001b[0m 2ms/step - loss: 0.8230"
          ]
        },
        {
          "name": "stderr",
          "output_type": "stream",
          "text": [
            "Loading and processing data: 22060it [00:15, 2658.91it/s]"
          ]
        },
        {
          "name": "stdout",
          "output_type": "stream",
          "text": [
            "\u001b[1m 571/1000\u001b[0m \u001b[32m━━━━━━━━━━━\u001b[0m\u001b[37m━━━━━━━━━\u001b[0m \u001b[1m0s\u001b[0m 2ms/step - loss: 0.9136"
          ]
        },
        {
          "name": "stderr",
          "output_type": "stream",
          "text": [
            "Loading and processing data: 22326it [00:15, 2643.87it/s]"
          ]
        },
        {
          "name": "stdout",
          "output_type": "stream",
          "text": [
            "\u001b[1m 629/1000\u001b[0m \u001b[32m━━━━━━━━━━━━\u001b[0m\u001b[37m━━━━━━━━\u001b[0m \u001b[1m0s\u001b[0m 2ms/step - loss: 0.9903"
          ]
        },
        {
          "name": "stderr",
          "output_type": "stream",
          "text": [
            "Loading and processing data: 22591it [00:15, 2529.99it/s]"
          ]
        },
        {
          "name": "stdout",
          "output_type": "stream",
          "text": [
            "\u001b[1m 696/1000\u001b[0m \u001b[32m━━━━━━━━━━━━━\u001b[0m\u001b[37m━━━━━━━\u001b[0m \u001b[1m0s\u001b[0m 2ms/step - loss: 1.0725"
          ]
        },
        {
          "name": "stderr",
          "output_type": "stream",
          "text": [
            "Loading and processing data: 22852it [00:15, 2550.67it/s]"
          ]
        },
        {
          "name": "stdout",
          "output_type": "stream",
          "text": [
            "\u001b[1m 760/1000\u001b[0m \u001b[32m━━━━━━━━━━━━━━━\u001b[0m\u001b[37m━━━━━\u001b[0m \u001b[1m0s\u001b[0m 2ms/step - loss: 1.1424"
          ]
        },
        {
          "name": "stderr",
          "output_type": "stream",
          "text": [
            "Loading and processing data: 23108it [00:15, 2537.17it/s]"
          ]
        },
        {
          "name": "stdout",
          "output_type": "stream",
          "text": [
            "\u001b[1m 826/1000\u001b[0m \u001b[32m━━━━━━━━━━━━━━━━\u001b[0m\u001b[37m━━━━\u001b[0m \u001b[1m0s\u001b[0m 2ms/step - loss: 1.2057"
          ]
        },
        {
          "name": "stderr",
          "output_type": "stream",
          "text": [
            "Loading and processing data: 23372it [00:16, 2558.13it/s]"
          ]
        },
        {
          "name": "stdout",
          "output_type": "stream",
          "text": [
            "\u001b[1m 890/1000\u001b[0m \u001b[32m━━━━━━━━━━━━━━━━━\u001b[0m\u001b[37m━━━\u001b[0m \u001b[1m0s\u001b[0m 2ms/step - loss: 1.2643"
          ]
        },
        {
          "name": "stderr",
          "output_type": "stream",
          "text": [
            "Loading and processing data: 23629it [00:16, 2516.34it/s]"
          ]
        },
        {
          "name": "stdout",
          "output_type": "stream",
          "text": [
            "\u001b[1m 947/1000\u001b[0m \u001b[32m━━━━━━━━━━━━━━━━━━\u001b[0m\u001b[37m━━\u001b[0m \u001b[1m0s\u001b[0m 2ms/step - loss: 1.3195"
          ]
        },
        {
          "name": "stderr",
          "output_type": "stream",
          "text": [
            "Loading and processing data: 23882it [00:16, 2434.84it/s]"
          ]
        },
        {
          "name": "stdout",
          "output_type": "stream",
          "text": [
            "\u001b[1m1000/1000\u001b[0m \u001b[32m━━━━━━━━━━━━━━━━━━━━\u001b[0m\u001b[37m\u001b[0m \u001b[1m2s\u001b[0m 2ms/step - loss: 1.3823\n",
            "Epoch 7/15\n",
            "\u001b[1m   1/1000\u001b[0m \u001b[37m━━━━━━━━━━━━━━━━━━━━\u001b[0m \u001b[1m2s\u001b[0m 3ms/step - loss: 7.7987"
          ]
        },
        {
          "name": "stderr",
          "output_type": "stream",
          "text": [
            "Loading and processing data: 24127it [00:16, 2356.10it/s]"
          ]
        },
        {
          "name": "stdout",
          "output_type": "stream",
          "text": [
            "\u001b[1m  87/1000\u001b[0m \u001b[32m━\u001b[0m\u001b[37m━━━━━━━━━━━━━━━━━━━\u001b[0m \u001b[1m1s\u001b[0m 2ms/step - loss: 7.8473"
          ]
        },
        {
          "name": "stderr",
          "output_type": "stream",
          "text": [
            "Loading and processing data: 24364it [00:16, 2316.83it/s]"
          ]
        },
        {
          "name": "stdout",
          "output_type": "stream",
          "text": [
            "\u001b[1m 143/1000\u001b[0m \u001b[32m━━\u001b[0m\u001b[37m━━━━━━━━━━━━━━━━━━\u001b[0m \u001b[1m1s\u001b[0m 2ms/step - loss: 6.5782"
          ]
        },
        {
          "name": "stderr",
          "output_type": "stream",
          "text": [
            "Loading and processing data: 24597it [00:16, 2288.22it/s]"
          ]
        },
        {
          "name": "stdout",
          "output_type": "stream",
          "text": [
            "\u001b[1m 213/1000\u001b[0m \u001b[32m━━━━\u001b[0m\u001b[37m━━━━━━━━━━━━━━━━\u001b[0m \u001b[1m1s\u001b[0m 2ms/step - loss: 5.7294"
          ]
        },
        {
          "name": "stderr",
          "output_type": "stream",
          "text": [
            "Loading and processing data: 24872it [00:16, 2408.78it/s]"
          ]
        },
        {
          "name": "stdout",
          "output_type": "stream",
          "text": [
            "\u001b[1m 273/1000\u001b[0m \u001b[32m━━━━━\u001b[0m\u001b[37m━━━━━━━━━━━━━━━\u001b[0m \u001b[1m1s\u001b[0m 2ms/step - loss: 5.3989"
          ]
        },
        {
          "name": "stderr",
          "output_type": "stream",
          "text": [
            "Loading and processing data: 25114it [00:16, 2403.12it/s]"
          ]
        },
        {
          "name": "stdout",
          "output_type": "stream",
          "text": [
            "\u001b[1m 329/1000\u001b[0m \u001b[32m━━━━━━\u001b[0m\u001b[37m━━━━━━━━━━━━━━\u001b[0m \u001b[1m1s\u001b[0m 2ms/step - loss: 5.1756"
          ]
        },
        {
          "name": "stderr",
          "output_type": "stream",
          "text": [
            "Loading and processing data: 25355it [00:16, 2354.43it/s]"
          ]
        },
        {
          "name": "stdout",
          "output_type": "stream",
          "text": [
            "\u001b[1m 385/1000\u001b[0m \u001b[32m━━━━━━━\u001b[0m\u001b[37m━━━━━━━━━━━━━\u001b[0m \u001b[1m1s\u001b[0m 2ms/step - loss: 5.1468"
          ]
        },
        {
          "name": "stderr",
          "output_type": "stream",
          "text": [
            "Loading and processing data: 25591it [00:17, 2317.89it/s]"
          ]
        },
        {
          "name": "stdout",
          "output_type": "stream",
          "text": [
            "\u001b[1m 442/1000\u001b[0m \u001b[32m━━━━━━━━\u001b[0m\u001b[37m━━━━━━━━━━━━\u001b[0m \u001b[1m0s\u001b[0m 2ms/step - loss: 5.1962"
          ]
        },
        {
          "name": "stderr",
          "output_type": "stream",
          "text": [
            "Loading and processing data: 25824it [00:17, 2284.35it/s]"
          ]
        },
        {
          "name": "stdout",
          "output_type": "stream",
          "text": [
            "\u001b[1m 498/1000\u001b[0m \u001b[32m━━━━━━━━━\u001b[0m\u001b[37m━━━━━━━━━━━\u001b[0m \u001b[1m0s\u001b[0m 2ms/step - loss: 5.1656"
          ]
        },
        {
          "name": "stderr",
          "output_type": "stream",
          "text": [
            "Loading and processing data: 26053it [00:17, 2260.48it/s]"
          ]
        },
        {
          "name": "stdout",
          "output_type": "stream",
          "text": [
            "\u001b[1m 549/1000\u001b[0m \u001b[32m━━━━━━━━━━\u001b[0m\u001b[37m━━━━━━━━━━\u001b[0m \u001b[1m0s\u001b[0m 2ms/step - loss: 5.0999"
          ]
        },
        {
          "name": "stderr",
          "output_type": "stream",
          "text": [
            "Loading and processing data: 26280it [00:17, 2215.73it/s]"
          ]
        },
        {
          "name": "stdout",
          "output_type": "stream",
          "text": [
            "\u001b[1m 612/1000\u001b[0m \u001b[32m━━━━━━━━━━━━\u001b[0m\u001b[37m━━━━━━━━\u001b[0m \u001b[1m0s\u001b[0m 2ms/step - loss: 5.0166"
          ]
        },
        {
          "name": "stderr",
          "output_type": "stream",
          "text": [
            "Loading and processing data: 26536it [00:17, 2310.94it/s]"
          ]
        },
        {
          "name": "stdout",
          "output_type": "stream",
          "text": [
            "\u001b[1m 679/1000\u001b[0m \u001b[32m━━━━━━━━━━━━━\u001b[0m\u001b[37m━━━━━━━\u001b[0m \u001b[1m0s\u001b[0m 2ms/step - loss: 5.0040"
          ]
        },
        {
          "name": "stderr",
          "output_type": "stream",
          "text": [
            "Loading and processing data: 26808it [00:17, 2421.13it/s]"
          ]
        },
        {
          "name": "stdout",
          "output_type": "stream",
          "text": [
            "\u001b[1m 747/1000\u001b[0m \u001b[32m━━━━━━━━━━━━━━\u001b[0m\u001b[37m━━━━━━\u001b[0m \u001b[1m0s\u001b[0m 2ms/step - loss: 5.0051"
          ]
        },
        {
          "name": "stderr",
          "output_type": "stream",
          "text": [
            "Loading and processing data: 27080it [00:17, 2500.94it/s]"
          ]
        },
        {
          "name": "stdout",
          "output_type": "stream",
          "text": [
            "\u001b[1m 815/1000\u001b[0m \u001b[32m━━━━━━━━━━━━━━━━\u001b[0m\u001b[37m━━━━\u001b[0m \u001b[1m0s\u001b[0m 2ms/step - loss: 5.0043"
          ]
        },
        {
          "name": "stderr",
          "output_type": "stream",
          "text": [
            "Loading and processing data: 27352it [00:17, 2560.40it/s]"
          ]
        },
        {
          "name": "stdout",
          "output_type": "stream",
          "text": [
            "\u001b[1m 882/1000\u001b[0m \u001b[32m━━━━━━━━━━━━━━━━━\u001b[0m\u001b[37m━━━\u001b[0m \u001b[1m0s\u001b[0m 2ms/step - loss: 5.0096"
          ]
        },
        {
          "name": "stderr",
          "output_type": "stream",
          "text": [
            "Loading and processing data: 27620it [00:17, 2584.68it/s]"
          ]
        },
        {
          "name": "stdout",
          "output_type": "stream",
          "text": [
            "\u001b[1m 949/1000\u001b[0m \u001b[32m━━━━━━━━━━━━━━━━━━\u001b[0m\u001b[37m━━\u001b[0m \u001b[1m0s\u001b[0m 2ms/step - loss: 5.0144"
          ]
        },
        {
          "name": "stderr",
          "output_type": "stream",
          "text": [
            "Loading and processing data: 27892it [00:17, 2614.38it/s]"
          ]
        },
        {
          "name": "stdout",
          "output_type": "stream",
          "text": [
            "\u001b[1m1000/1000\u001b[0m \u001b[32m━━━━━━━━━━━━━━━━━━━━\u001b[0m\u001b[37m\u001b[0m \u001b[1m2s\u001b[0m 2ms/step - loss: 5.0091\n",
            "Epoch 8/15\n",
            "\u001b[1m  26/1000\u001b[0m \u001b[37m━━━━━━━━━━━━━━━━━━━━\u001b[0m \u001b[1m1s\u001b[0m 2ms/step - loss: 2.5791"
          ]
        },
        {
          "name": "stderr",
          "output_type": "stream",
          "text": [
            "Loading and processing data: 28154it [00:18, 2473.67it/s]"
          ]
        },
        {
          "name": "stdout",
          "output_type": "stream",
          "text": [
            "\u001b[1m  84/1000\u001b[0m \u001b[32m━\u001b[0m\u001b[37m━━━━━━━━━━━━━━━━━━━\u001b[0m \u001b[1m1s\u001b[0m 2ms/step - loss: 2.3455"
          ]
        },
        {
          "name": "stderr",
          "output_type": "stream",
          "text": [
            "Loading and processing data: 28403it [00:18, 2448.41it/s]"
          ]
        },
        {
          "name": "stdout",
          "output_type": "stream",
          "text": [
            "\u001b[1m 145/1000\u001b[0m \u001b[32m━━\u001b[0m\u001b[37m━━━━━━━━━━━━━━━━━━\u001b[0m \u001b[1m1s\u001b[0m 2ms/step - loss: 2.5763"
          ]
        },
        {
          "name": "stderr",
          "output_type": "stream",
          "text": [
            "Loading and processing data: 28649it [00:18, 2406.30it/s]"
          ]
        },
        {
          "name": "stdout",
          "output_type": "stream",
          "text": [
            "\u001b[1m 206/1000\u001b[0m \u001b[32m━━━━\u001b[0m\u001b[37m━━━━━━━━━━━━━━━━\u001b[0m \u001b[1m1s\u001b[0m 2ms/step - loss: 3.3437"
          ]
        },
        {
          "name": "stderr",
          "output_type": "stream",
          "text": [
            "Loading and processing data: 28900it [00:18, 2428.13it/s]"
          ]
        },
        {
          "name": "stdout",
          "output_type": "stream",
          "text": [
            "\u001b[1m 271/1000\u001b[0m \u001b[32m━━━━━\u001b[0m\u001b[37m━━━━━━━━━━━━━━━\u001b[0m \u001b[1m1s\u001b[0m 2ms/step - loss: 3.7870"
          ]
        },
        {
          "name": "stderr",
          "output_type": "stream",
          "text": [
            "Loading and processing data: 29152it [00:18, 2453.33it/s]"
          ]
        },
        {
          "name": "stdout",
          "output_type": "stream",
          "text": [
            "\u001b[1m 334/1000\u001b[0m \u001b[32m━━━━━━\u001b[0m\u001b[37m━━━━━━━━━━━━━━\u001b[0m \u001b[1m1s\u001b[0m 2ms/step - loss: 4.0001"
          ]
        },
        {
          "name": "stderr",
          "output_type": "stream",
          "text": [
            "Loading and processing data: 29398it [00:18, 2450.21it/s]"
          ]
        },
        {
          "name": "stdout",
          "output_type": "stream",
          "text": [
            "\u001b[1m 396/1000\u001b[0m \u001b[32m━━━━━━━\u001b[0m\u001b[37m━━━━━━━━━━━━━\u001b[0m \u001b[1m1s\u001b[0m 2ms/step - loss: 4.0349"
          ]
        },
        {
          "name": "stderr",
          "output_type": "stream",
          "text": [
            "Loading and processing data: 29648it [00:18, 2455.27it/s]"
          ]
        },
        {
          "name": "stdout",
          "output_type": "stream",
          "text": [
            "\u001b[1m 449/1000\u001b[0m \u001b[32m━━━━━━━━\u001b[0m\u001b[37m━━━━━━━━━━━━\u001b[0m \u001b[1m0s\u001b[0m 2ms/step - loss: 4.0085"
          ]
        },
        {
          "name": "stderr",
          "output_type": "stream",
          "text": [
            "Loading and processing data: 29894it [00:18, 2353.15it/s]"
          ]
        },
        {
          "name": "stdout",
          "output_type": "stream",
          "text": [
            "\u001b[1m 507/1000\u001b[0m \u001b[32m━━━━━━━━━━\u001b[0m\u001b[37m━━━━━━━━━━\u001b[0m \u001b[1m0s\u001b[0m 2ms/step - loss: 3.9576"
          ]
        },
        {
          "name": "stderr",
          "output_type": "stream",
          "text": [
            "Loading and processing data: 30132it [00:18, 2354.01it/s]"
          ]
        },
        {
          "name": "stdout",
          "output_type": "stream",
          "text": [
            "\u001b[1m 569/1000\u001b[0m \u001b[32m━━━━━━━━━━━\u001b[0m\u001b[37m━━━━━━━━━\u001b[0m \u001b[1m0s\u001b[0m 2ms/step - loss: 3.9344"
          ]
        },
        {
          "name": "stderr",
          "output_type": "stream",
          "text": [
            "Loading and processing data: 30384it [00:19, 2397.45it/s]"
          ]
        },
        {
          "name": "stdout",
          "output_type": "stream",
          "text": [
            "\u001b[1m 632/1000\u001b[0m \u001b[32m━━━━━━━━━━━━\u001b[0m\u001b[37m━━━━━━━━\u001b[0m \u001b[1m0s\u001b[0m 2ms/step - loss: 3.9284"
          ]
        },
        {
          "name": "stderr",
          "output_type": "stream",
          "text": [
            "Loading and processing data: 30625it [00:19, 2393.00it/s]"
          ]
        },
        {
          "name": "stdout",
          "output_type": "stream",
          "text": [
            "\u001b[1m 689/1000\u001b[0m \u001b[32m━━━━━━━━━━━━━\u001b[0m\u001b[37m━━━━━━━\u001b[0m \u001b[1m0s\u001b[0m 2ms/step - loss: 3.9253"
          ]
        },
        {
          "name": "stderr",
          "output_type": "stream",
          "text": [
            "Loading and processing data: 30865it [00:19, 2304.12it/s]"
          ]
        },
        {
          "name": "stdout",
          "output_type": "stream",
          "text": [
            "\u001b[1m 767/1000\u001b[0m \u001b[32m━━━━━━━━━━━━━━━\u001b[0m\u001b[37m━━━━━\u001b[0m \u001b[1m0s\u001b[0m 2ms/step - loss: 3.9122"
          ]
        },
        {
          "name": "stderr",
          "output_type": "stream",
          "text": [
            "Loading and processing data: 31097it [00:19, 2240.62it/s]"
          ]
        },
        {
          "name": "stdout",
          "output_type": "stream",
          "text": [
            "\u001b[1m 826/1000\u001b[0m \u001b[32m━━━━━━━━━━━━━━━━\u001b[0m\u001b[37m━━━━\u001b[0m \u001b[1m0s\u001b[0m 2ms/step - loss: 3.9029"
          ]
        },
        {
          "name": "stderr",
          "output_type": "stream",
          "text": [
            "Loading and processing data: 31328it [00:19, 2259.63it/s]"
          ]
        },
        {
          "name": "stdout",
          "output_type": "stream",
          "text": [
            "\u001b[1m 885/1000\u001b[0m \u001b[32m━━━━━━━━━━━━━━━━━\u001b[0m\u001b[37m━━━\u001b[0m \u001b[1m0s\u001b[0m 2ms/step - loss: 3.8934"
          ]
        },
        {
          "name": "stderr",
          "output_type": "stream",
          "text": [
            "Loading and processing data: 31560it [00:19, 2268.51it/s]"
          ]
        },
        {
          "name": "stdout",
          "output_type": "stream",
          "text": [
            "\u001b[1m 945/1000\u001b[0m \u001b[32m━━━━━━━━━━━━━━━━━━\u001b[0m\u001b[37m━━\u001b[0m \u001b[1m0s\u001b[0m 2ms/step - loss: 3.8850"
          ]
        },
        {
          "name": "stderr",
          "output_type": "stream",
          "text": [
            "Loading and processing data: 31800it [00:19, 2295.51it/s]"
          ]
        },
        {
          "name": "stdout",
          "output_type": "stream",
          "text": [
            "\u001b[1m1000/1000\u001b[0m \u001b[32m━━━━━━━━━━━━━━━━━━━━\u001b[0m\u001b[37m\u001b[0m \u001b[1m2s\u001b[0m 2ms/step - loss: 3.8761\n",
            "Epoch 9/15\n",
            "\u001b[1m   1/1000\u001b[0m \u001b[37m━━━━━━━━━━━━━━━━━━━━\u001b[0m \u001b[1m2s\u001b[0m 2ms/step - loss: 0.1944"
          ]
        },
        {
          "name": "stderr",
          "output_type": "stream",
          "text": [
            "Loading and processing data: 32044it [00:19, 2328.08it/s]"
          ]
        },
        {
          "name": "stdout",
          "output_type": "stream",
          "text": [
            "\u001b[1m  62/1000\u001b[0m \u001b[32m━\u001b[0m\u001b[37m━━━━━━━━━━━━━━━━━━━\u001b[0m \u001b[1m1s\u001b[0m 2ms/step - loss: 5.0383"
          ]
        },
        {
          "name": "stderr",
          "output_type": "stream",
          "text": [
            "Loading and processing data: 32288it [00:19, 2353.58it/s]"
          ]
        },
        {
          "name": "stdout",
          "output_type": "stream",
          "text": [
            "\u001b[1m 125/1000\u001b[0m \u001b[32m━━\u001b[0m\u001b[37m━━━━━━━━━━━━━━━━━━\u001b[0m \u001b[1m1s\u001b[0m 2ms/step - loss: 5.2398"
          ]
        },
        {
          "name": "stderr",
          "output_type": "stream",
          "text": [
            "Loading and processing data: 32540it [00:19, 2400.22it/s]"
          ]
        },
        {
          "name": "stdout",
          "output_type": "stream",
          "text": [
            "\u001b[1m 191/1000\u001b[0m \u001b[32m━━━\u001b[0m\u001b[37m━━━━━━━━━━━━━━━━━\u001b[0m \u001b[1m1s\u001b[0m 2ms/step - loss: 5.0605"
          ]
        },
        {
          "name": "stderr",
          "output_type": "stream",
          "text": [
            "Loading and processing data: 32800it [00:20, 2452.88it/s]"
          ]
        },
        {
          "name": "stdout",
          "output_type": "stream",
          "text": [
            "\u001b[1m 254/1000\u001b[0m \u001b[32m━━━━━\u001b[0m\u001b[37m━━━━━━━━━━━━━━━\u001b[0m \u001b[1m1s\u001b[0m 2ms/step - loss: 4.9398"
          ]
        },
        {
          "name": "stderr",
          "output_type": "stream",
          "text": [
            "Loading and processing data: 33048it [00:20, 2451.80it/s]"
          ]
        },
        {
          "name": "stdout",
          "output_type": "stream",
          "text": [
            "\u001b[1m 319/1000\u001b[0m \u001b[32m━━━━━━\u001b[0m\u001b[37m━━━━━━━━━━━━━━\u001b[0m \u001b[1m1s\u001b[0m 2ms/step - loss: 4.8230"
          ]
        },
        {
          "name": "stderr",
          "output_type": "stream",
          "text": [
            "Loading and processing data: 33308it [00:20, 2486.72it/s]"
          ]
        },
        {
          "name": "stdout",
          "output_type": "stream",
          "text": [
            "\u001b[1m 372/1000\u001b[0m \u001b[32m━━━━━━━\u001b[0m\u001b[37m━━━━━━━━━━━━━\u001b[0m \u001b[1m1s\u001b[0m 2ms/step - loss: 4.7342"
          ]
        },
        {
          "name": "stderr",
          "output_type": "stream",
          "text": [
            "Loading and processing data: 33557it [00:20, 2331.28it/s]"
          ]
        },
        {
          "name": "stdout",
          "output_type": "stream",
          "text": [
            "\u001b[1m 426/1000\u001b[0m \u001b[32m━━━━━━━━\u001b[0m\u001b[37m━━━━━━━━━━━━\u001b[0m \u001b[1m0s\u001b[0m 2ms/step - loss: 4.6318"
          ]
        },
        {
          "name": "stderr",
          "output_type": "stream",
          "text": [
            "Loading and processing data: 33793it [00:20, 2290.40it/s]"
          ]
        },
        {
          "name": "stdout",
          "output_type": "stream",
          "text": [
            "\u001b[1m 491/1000\u001b[0m \u001b[32m━━━━━━━━━\u001b[0m\u001b[37m━━━━━━━━━━━\u001b[0m \u001b[1m0s\u001b[0m 2ms/step - loss: 4.5192"
          ]
        },
        {
          "name": "stderr",
          "output_type": "stream",
          "text": [
            "Loading and processing data: 34064it [00:20, 2402.16it/s]"
          ]
        },
        {
          "name": "stdout",
          "output_type": "stream",
          "text": [
            "\u001b[1m 559/1000\u001b[0m \u001b[32m━━━━━━━━━━━\u001b[0m\u001b[37m━━━━━━━━━\u001b[0m \u001b[1m0s\u001b[0m 2ms/step - loss: 4.4499"
          ]
        },
        {
          "name": "stderr",
          "output_type": "stream",
          "text": [
            "Loading and processing data: 34332it [00:20, 2473.29it/s]"
          ]
        },
        {
          "name": "stdout",
          "output_type": "stream",
          "text": [
            "\u001b[1m 623/1000\u001b[0m \u001b[32m━━━━━━━━━━━━\u001b[0m\u001b[37m━━━━━━━━\u001b[0m \u001b[1m0s\u001b[0m 2ms/step - loss: 4.4000"
          ]
        },
        {
          "name": "stderr",
          "output_type": "stream",
          "text": [
            "Loading and processing data: 34588it [00:20, 2496.41it/s]"
          ]
        },
        {
          "name": "stdout",
          "output_type": "stream",
          "text": [
            "\u001b[1m 692/1000\u001b[0m \u001b[32m━━━━━━━━━━━━━\u001b[0m\u001b[37m━━━━━━━\u001b[0m \u001b[1m0s\u001b[0m 2ms/step - loss: 4.3513"
          ]
        },
        {
          "name": "stderr",
          "output_type": "stream",
          "text": [
            "Loading and processing data: 34860it [00:20, 2554.86it/s]"
          ]
        },
        {
          "name": "stdout",
          "output_type": "stream",
          "text": [
            "\u001b[1m 754/1000\u001b[0m \u001b[32m━━━━━━━━━━━━━━━\u001b[0m\u001b[37m━━━━━\u001b[0m \u001b[1m0s\u001b[0m 2ms/step - loss: 4.3141"
          ]
        },
        {
          "name": "stderr",
          "output_type": "stream",
          "text": [
            "Loading and processing data: 35117it [00:20, 2510.91it/s]"
          ]
        },
        {
          "name": "stdout",
          "output_type": "stream",
          "text": [
            "\u001b[1m 820/1000\u001b[0m \u001b[32m━━━━━━━━━━━━━━━━\u001b[0m\u001b[37m━━━━\u001b[0m \u001b[1m0s\u001b[0m 2ms/step - loss: 4.2749"
          ]
        },
        {
          "name": "stderr",
          "output_type": "stream",
          "text": [
            "Loading and processing data: 35384it [00:21, 2556.10it/s]"
          ]
        },
        {
          "name": "stdout",
          "output_type": "stream",
          "text": [
            "\u001b[1m 889/1000\u001b[0m \u001b[32m━━━━━━━━━━━━━━━━━\u001b[0m\u001b[37m━━━\u001b[0m \u001b[1m0s\u001b[0m 2ms/step - loss: 4.2312"
          ]
        },
        {
          "name": "stderr",
          "output_type": "stream",
          "text": [
            "Loading and processing data: 35656it [00:21, 2593.36it/s]"
          ]
        },
        {
          "name": "stdout",
          "output_type": "stream",
          "text": [
            "\u001b[1m 957/1000\u001b[0m \u001b[32m━━━━━━━━━━━━━━━━━━━\u001b[0m\u001b[37m━\u001b[0m \u001b[1m0s\u001b[0m 2ms/step - loss: 4.1836"
          ]
        },
        {
          "name": "stderr",
          "output_type": "stream",
          "text": [
            "Loading and processing data: 35924it [00:21, 2611.40it/s]"
          ]
        },
        {
          "name": "stdout",
          "output_type": "stream",
          "text": [
            "\u001b[1m1000/1000\u001b[0m \u001b[32m━━━━━━━━━━━━━━━━━━━━\u001b[0m\u001b[37m\u001b[0m \u001b[1m2s\u001b[0m 2ms/step - loss: 4.1553\n",
            "Epoch 10/15\n",
            "\u001b[1m  32/1000\u001b[0m \u001b[37m━━━━━━━━━━━━━━━━━━━━\u001b[0m \u001b[1m1s\u001b[0m 2ms/step - loss: 4.0309"
          ]
        },
        {
          "name": "stderr",
          "output_type": "stream",
          "text": [
            "Loading and processing data: 36186it [00:21, 2567.90it/s]"
          ]
        },
        {
          "name": "stdout",
          "output_type": "stream",
          "text": [
            "\u001b[1m  99/1000\u001b[0m \u001b[32m━\u001b[0m\u001b[37m━━━━━━━━━━━━━━━━━━━\u001b[0m \u001b[1m1s\u001b[0m 2ms/step - loss: 4.6792"
          ]
        },
        {
          "name": "stderr",
          "output_type": "stream",
          "text": [
            "Loading and processing data: 36452it [00:21, 2589.56it/s]"
          ]
        },
        {
          "name": "stdout",
          "output_type": "stream",
          "text": [
            "\u001b[1m 167/1000\u001b[0m \u001b[32m━━━\u001b[0m\u001b[37m━━━━━━━━━━━━━━━━━\u001b[0m \u001b[1m1s\u001b[0m 2ms/step - loss: 4.0252"
          ]
        },
        {
          "name": "stderr",
          "output_type": "stream",
          "text": [
            "Loading and processing data: 36724it [00:21, 2620.74it/s]"
          ]
        },
        {
          "name": "stdout",
          "output_type": "stream",
          "text": [
            "\u001b[1m 224/1000\u001b[0m \u001b[32m━━━━\u001b[0m\u001b[37m━━━━━━━━━━━━━━━━\u001b[0m \u001b[1m1s\u001b[0m 2ms/step - loss: 3.6769"
          ]
        },
        {
          "name": "stderr",
          "output_type": "stream",
          "text": [
            "Loading and processing data: 36987it [00:21, 2526.45it/s]"
          ]
        },
        {
          "name": "stdout",
          "output_type": "stream",
          "text": [
            "\u001b[1m 293/1000\u001b[0m \u001b[32m━━━━━\u001b[0m\u001b[37m━━━━━━━━━━━━━━━\u001b[0m \u001b[1m1s\u001b[0m 2ms/step - loss: 3.4310"
          ]
        },
        {
          "name": "stderr",
          "output_type": "stream",
          "text": [
            "Loading and processing data: 37264it [00:21, 2592.12it/s]"
          ]
        },
        {
          "name": "stdout",
          "output_type": "stream",
          "text": [
            "\u001b[1m 363/1000\u001b[0m \u001b[32m━━━━━━━\u001b[0m\u001b[37m━━━━━━━━━━━━━\u001b[0m \u001b[1m0s\u001b[0m 2ms/step - loss: 3.2445"
          ]
        },
        {
          "name": "stderr",
          "output_type": "stream",
          "text": [
            "Loading and processing data: 37528it [00:21, 2598.39it/s]"
          ]
        },
        {
          "name": "stdout",
          "output_type": "stream",
          "text": [
            "\u001b[1m 420/1000\u001b[0m \u001b[32m━━━━━━━━\u001b[0m\u001b[37m━━━━━━━━━━━━\u001b[0m \u001b[1m0s\u001b[0m 2ms/step - loss: 3.1358"
          ]
        },
        {
          "name": "stderr",
          "output_type": "stream",
          "text": [
            "Loading and processing data: 37789it [00:22, 2486.08it/s]"
          ]
        },
        {
          "name": "stdout",
          "output_type": "stream",
          "text": [
            "\u001b[1m 478/1000\u001b[0m \u001b[32m━━━━━━━━━\u001b[0m\u001b[37m━━━━━━━━━━━\u001b[0m \u001b[1m0s\u001b[0m 2ms/step - loss: 3.0378"
          ]
        },
        {
          "name": "stderr",
          "output_type": "stream",
          "text": [
            "Loading and processing data: 38039it [00:22, 2427.14it/s]"
          ]
        },
        {
          "name": "stdout",
          "output_type": "stream",
          "text": [
            "\u001b[1m 564/1000\u001b[0m \u001b[32m━━━━━━━━━━━\u001b[0m\u001b[37m━━━━━━━━━\u001b[0m \u001b[1m0s\u001b[0m 2ms/step - loss: 2.9361"
          ]
        },
        {
          "name": "stderr",
          "output_type": "stream",
          "text": [
            "Loading and processing data: 38283it [00:22, 2360.96it/s]"
          ]
        },
        {
          "name": "stdout",
          "output_type": "stream",
          "text": [
            "\u001b[1m 621/1000\u001b[0m \u001b[32m━━━━━━━━━━━━\u001b[0m\u001b[37m━━━━━━━━\u001b[0m \u001b[1m0s\u001b[0m 2ms/step - loss: 2.9232"
          ]
        },
        {
          "name": "stderr",
          "output_type": "stream",
          "text": [
            "Loading and processing data: 38520it [00:22, 2312.34it/s]"
          ]
        },
        {
          "name": "stdout",
          "output_type": "stream",
          "text": [
            "\u001b[1m 676/1000\u001b[0m \u001b[32m━━━━━━━━━━━━━\u001b[0m\u001b[37m━━━━━━━\u001b[0m \u001b[1m0s\u001b[0m 2ms/step - loss: 2.9109"
          ]
        },
        {
          "name": "stderr",
          "output_type": "stream",
          "text": [
            "Loading and processing data: 38752it [00:22, 2264.81it/s]"
          ]
        },
        {
          "name": "stdout",
          "output_type": "stream",
          "text": [
            "\u001b[1m 739/1000\u001b[0m \u001b[32m━━━━━━━━━━━━━━\u001b[0m\u001b[37m━━━━━━\u001b[0m \u001b[1m0s\u001b[0m 2ms/step - loss: 2.8974"
          ]
        },
        {
          "name": "stderr",
          "output_type": "stream",
          "text": [
            "Loading and processing data: 39012it [00:22, 2352.69it/s]"
          ]
        },
        {
          "name": "stdout",
          "output_type": "stream",
          "text": [
            "\u001b[1m 808/1000\u001b[0m \u001b[32m━━━━━━━━━━━━━━━━\u001b[0m\u001b[37m━━━━\u001b[0m \u001b[1m0s\u001b[0m 2ms/step - loss: 2.8839"
          ]
        },
        {
          "name": "stderr",
          "output_type": "stream",
          "text": [
            "Loading and processing data: 39284it [00:22, 2451.69it/s]"
          ]
        },
        {
          "name": "stdout",
          "output_type": "stream",
          "text": [
            "\u001b[1m 875/1000\u001b[0m \u001b[32m━━━━━━━━━━━━━━━━━\u001b[0m\u001b[37m━━━\u001b[0m \u001b[1m0s\u001b[0m 2ms/step - loss: 2.8685"
          ]
        },
        {
          "name": "stderr",
          "output_type": "stream",
          "text": [
            "Loading and processing data: 39548it [00:22, 2500.31it/s]"
          ]
        },
        {
          "name": "stdout",
          "output_type": "stream",
          "text": [
            "\u001b[1m 938/1000\u001b[0m \u001b[32m━━━━━━━━━━━━━━━━━━\u001b[0m\u001b[37m━━\u001b[0m \u001b[1m0s\u001b[0m 2ms/step - loss: 2.8480"
          ]
        },
        {
          "name": "stderr",
          "output_type": "stream",
          "text": [
            "Loading and processing data: 39799it [00:22, 2502.50it/s]"
          ]
        },
        {
          "name": "stdout",
          "output_type": "stream",
          "text": [
            "\u001b[1m1000/1000\u001b[0m \u001b[32m━━━━━━━━━━━━━━━━━━━━\u001b[0m\u001b[37m\u001b[0m \u001b[1m2s\u001b[0m 2ms/step - loss: 2.8251\n",
            "Epoch 11/15\n",
            "\u001b[1m   1/1000\u001b[0m \u001b[37m━━━━━━━━━━━━━━━━━━━━\u001b[0m \u001b[1m1s\u001b[0m 2ms/step - loss: 1.6676"
          ]
        },
        {
          "name": "stderr",
          "output_type": "stream",
          "text": [
            "Loading and processing data: 40059it [00:22, 2531.25it/s]"
          ]
        },
        {
          "name": "stdout",
          "output_type": "stream",
          "text": [
            "\u001b[1m  69/1000\u001b[0m \u001b[32m━\u001b[0m\u001b[37m━━━━━━━━━━━━━━━━━━━\u001b[0m \u001b[1m1s\u001b[0m 1ms/step - loss: 1.3917"
          ]
        },
        {
          "name": "stderr",
          "output_type": "stream",
          "text": [
            "Loading and processing data: 40324it [00:23, 2564.26it/s]"
          ]
        },
        {
          "name": "stdout",
          "output_type": "stream",
          "text": [
            "\u001b[1m 129/1000\u001b[0m \u001b[32m━━\u001b[0m\u001b[37m━━━━━━━━━━━━━━━━━━\u001b[0m \u001b[1m1s\u001b[0m 2ms/step - loss: 1.4456"
          ]
        },
        {
          "name": "stderr",
          "output_type": "stream",
          "text": [
            "Loading and processing data: 40581it [00:23, 2505.17it/s]"
          ]
        },
        {
          "name": "stdout",
          "output_type": "stream",
          "text": [
            "\u001b[1m 194/1000\u001b[0m \u001b[32m━━━\u001b[0m\u001b[37m━━━━━━━━━━━━━━━━━\u001b[0m \u001b[1m1s\u001b[0m 2ms/step - loss: 1.5607"
          ]
        },
        {
          "name": "stderr",
          "output_type": "stream",
          "text": [
            "Loading and processing data: 40840it [00:23, 2520.37it/s]"
          ]
        },
        {
          "name": "stdout",
          "output_type": "stream",
          "text": [
            "\u001b[1m 261/1000\u001b[0m \u001b[32m━━━━━\u001b[0m\u001b[37m━━━━━━━━━━━━━━━\u001b[0m \u001b[1m1s\u001b[0m 2ms/step - loss: 1.6718"
          ]
        },
        {
          "name": "stderr",
          "output_type": "stream",
          "text": [
            "Loading and processing data: 41104it [00:23, 2551.95it/s]"
          ]
        },
        {
          "name": "stdout",
          "output_type": "stream",
          "text": [
            "\u001b[1m 323/1000\u001b[0m \u001b[32m━━━━━━\u001b[0m\u001b[37m━━━━━━━━━━━━━━\u001b[0m \u001b[1m1s\u001b[0m 2ms/step - loss: 1.7496"
          ]
        },
        {
          "name": "stderr",
          "output_type": "stream",
          "text": [
            "Loading and processing data: 41360it [00:23, 2493.22it/s]"
          ]
        },
        {
          "name": "stdout",
          "output_type": "stream",
          "text": [
            "\u001b[1m 377/1000\u001b[0m \u001b[32m━━━━━━━\u001b[0m\u001b[37m━━━━━━━━━━━━━\u001b[0m \u001b[1m1s\u001b[0m 2ms/step - loss: 1.8507"
          ]
        },
        {
          "name": "stderr",
          "output_type": "stream",
          "text": [
            "Loading and processing data: 41610it [00:23, 2380.34it/s]"
          ]
        },
        {
          "name": "stdout",
          "output_type": "stream",
          "text": [
            "\u001b[1m 432/1000\u001b[0m \u001b[32m━━━━━━━━\u001b[0m\u001b[37m━━━━━━━━━━━━\u001b[0m \u001b[1m0s\u001b[0m 2ms/step - loss: 1.9123"
          ]
        },
        {
          "name": "stderr",
          "output_type": "stream",
          "text": [
            "Loading and processing data: 41850it [00:23, 2328.03it/s]"
          ]
        },
        {
          "name": "stdout",
          "output_type": "stream",
          "text": [
            "\u001b[1m 515/1000\u001b[0m \u001b[32m━━━━━━━━━━\u001b[0m\u001b[37m━━━━━━━━━━\u001b[0m \u001b[1m0s\u001b[0m 2ms/step - loss: 1.9977"
          ]
        },
        {
          "name": "stderr",
          "output_type": "stream",
          "text": [
            "Loading and processing data: 42084it [00:23, 2264.14it/s]"
          ]
        },
        {
          "name": "stdout",
          "output_type": "stream",
          "text": [
            "\u001b[1m 569/1000\u001b[0m \u001b[32m━━━━━━━━━━━\u001b[0m\u001b[37m━━━━━━━━━\u001b[0m \u001b[1m0s\u001b[0m 2ms/step - loss: 2.0442"
          ]
        },
        {
          "name": "stderr",
          "output_type": "stream",
          "text": [
            "Loading and processing data: 42312it [00:23, 2228.12it/s]"
          ]
        },
        {
          "name": "stdout",
          "output_type": "stream",
          "text": [
            "\u001b[1m 630/1000\u001b[0m \u001b[32m━━━━━━━━━━━━\u001b[0m\u001b[37m━━━━━━━━\u001b[0m \u001b[1m0s\u001b[0m 2ms/step - loss: 2.1036"
          ]
        },
        {
          "name": "stderr",
          "output_type": "stream",
          "text": [
            "Loading and processing data: 42556it [00:24, 2284.83it/s]"
          ]
        },
        {
          "name": "stdout",
          "output_type": "stream",
          "text": [
            "\u001b[1m 693/1000\u001b[0m \u001b[32m━━━━━━━━━━━━━\u001b[0m\u001b[37m━━━━━━━\u001b[0m \u001b[1m0s\u001b[0m 2ms/step - loss: 2.1773"
          ]
        },
        {
          "name": "stderr",
          "output_type": "stream",
          "text": [
            "Loading and processing data: 42808it [00:24, 2346.65it/s]"
          ]
        },
        {
          "name": "stdout",
          "output_type": "stream",
          "text": [
            "\u001b[1m 757/1000\u001b[0m \u001b[32m━━━━━━━━━━━━━━━\u001b[0m\u001b[37m━━━━━\u001b[0m \u001b[1m0s\u001b[0m 2ms/step - loss: 2.2387"
          ]
        },
        {
          "name": "stderr",
          "output_type": "stream",
          "text": [
            "Loading and processing data: 43056it [00:24, 2383.26it/s]"
          ]
        },
        {
          "name": "stdout",
          "output_type": "stream",
          "text": [
            "\u001b[1m 822/1000\u001b[0m \u001b[32m━━━━━━━━━━━━━━━━\u001b[0m\u001b[37m━━━━\u001b[0m \u001b[1m0s\u001b[0m 2ms/step - loss: 2.2939"
          ]
        },
        {
          "name": "stderr",
          "output_type": "stream",
          "text": [
            "Loading and processing data: 43312it [00:24, 2432.78it/s]"
          ]
        },
        {
          "name": "stdout",
          "output_type": "stream",
          "text": [
            "\u001b[1m 888/1000\u001b[0m \u001b[32m━━━━━━━━━━━━━━━━━\u001b[0m\u001b[37m━━━\u001b[0m \u001b[1m0s\u001b[0m 2ms/step - loss: 2.3478"
          ]
        },
        {
          "name": "stderr",
          "output_type": "stream",
          "text": [
            "Loading and processing data: 43576it [00:24, 2486.37it/s]"
          ]
        },
        {
          "name": "stdout",
          "output_type": "stream",
          "text": [
            "\u001b[1m 953/1000\u001b[0m \u001b[32m━━━━━━━━━━━━━━━━━━━\u001b[0m\u001b[37m━\u001b[0m \u001b[1m0s\u001b[0m 2ms/step - loss: 2.3883"
          ]
        },
        {
          "name": "stderr",
          "output_type": "stream",
          "text": [
            "Loading and processing data: 43836it [00:24, 2513.51it/s]"
          ]
        },
        {
          "name": "stdout",
          "output_type": "stream",
          "text": [
            "\u001b[1m1000/1000\u001b[0m \u001b[32m━━━━━━━━━━━━━━━━━━━━\u001b[0m\u001b[37m\u001b[0m \u001b[1m2s\u001b[0m 2ms/step - loss: 2.4093\n",
            "Epoch 12/15\n",
            "\u001b[1m   1/1000\u001b[0m \u001b[37m━━━━━━━━━━━━━━━━━━━━\u001b[0m \u001b[1m2s\u001b[0m 2ms/step - loss: 2.2636"
          ]
        },
        {
          "name": "stderr",
          "output_type": "stream",
          "text": [
            "Loading and processing data: 44088it [00:24, 2475.28it/s]"
          ]
        },
        {
          "name": "stdout",
          "output_type": "stream",
          "text": [
            "\u001b[1m  62/1000\u001b[0m \u001b[32m━\u001b[0m\u001b[37m━━━━━━━━━━━━━━━━━━━\u001b[0m \u001b[1m1s\u001b[0m 2ms/step - loss: 3.2100"
          ]
        },
        {
          "name": "stderr",
          "output_type": "stream",
          "text": [
            "Loading and processing data: 44336it [00:24, 2448.19it/s]"
          ]
        },
        {
          "name": "stdout",
          "output_type": "stream",
          "text": [
            "\u001b[1m 127/1000\u001b[0m \u001b[32m━━\u001b[0m\u001b[37m━━━━━━━━━━━━━━━━━━\u001b[0m \u001b[1m1s\u001b[0m 2ms/step - loss: 2.6809"
          ]
        },
        {
          "name": "stderr",
          "output_type": "stream",
          "text": [
            "Loading and processing data: 44596it [00:24, 2488.24it/s]"
          ]
        },
        {
          "name": "stdout",
          "output_type": "stream",
          "text": [
            "\u001b[1m 192/1000\u001b[0m \u001b[32m━━━\u001b[0m\u001b[37m━━━━━━━━━━━━━━━━━\u001b[0m \u001b[1m1s\u001b[0m 2ms/step - loss: 2.4074"
          ]
        },
        {
          "name": "stderr",
          "output_type": "stream",
          "text": [
            "Loading and processing data: 44852it [00:24, 2501.71it/s]"
          ]
        },
        {
          "name": "stdout",
          "output_type": "stream",
          "text": [
            "\u001b[1m 259/1000\u001b[0m \u001b[32m━━━━━\u001b[0m\u001b[37m━━━━━━━━━━━━━━━\u001b[0m \u001b[1m1s\u001b[0m 2ms/step - loss: 2.2646"
          ]
        },
        {
          "name": "stderr",
          "output_type": "stream",
          "text": [
            "Loading and processing data: 45120it [00:25, 2544.84it/s]"
          ]
        },
        {
          "name": "stdout",
          "output_type": "stream",
          "text": [
            "\u001b[1m 326/1000\u001b[0m \u001b[32m━━━━━━\u001b[0m\u001b[37m━━━━━━━━━━━━━━\u001b[0m \u001b[1m1s\u001b[0m 2ms/step - loss: 2.1474"
          ]
        },
        {
          "name": "stderr",
          "output_type": "stream",
          "text": [
            "Loading and processing data: 45375it [00:25, 2527.84it/s]"
          ]
        },
        {
          "name": "stdout",
          "output_type": "stream",
          "text": [
            "\u001b[1m 390/1000\u001b[0m \u001b[32m━━━━━━━\u001b[0m\u001b[37m━━━━━━━━━━━━━\u001b[0m \u001b[1m0s\u001b[0m 2ms/step - loss: 2.0445"
          ]
        },
        {
          "name": "stderr",
          "output_type": "stream",
          "text": [
            "Loading and processing data: 45644it [00:25, 2572.40it/s]"
          ]
        },
        {
          "name": "stdout",
          "output_type": "stream",
          "text": [
            "\u001b[1m 460/1000\u001b[0m \u001b[32m━━━━━━━━━\u001b[0m\u001b[37m━━━━━━━━━━━\u001b[0m \u001b[1m0s\u001b[0m 2ms/step - loss: 1.9476"
          ]
        },
        {
          "name": "stderr",
          "output_type": "stream",
          "text": [
            "Loading and processing data: 45920it [00:25, 2628.04it/s]"
          ]
        },
        {
          "name": "stdout",
          "output_type": "stream",
          "text": [
            "\u001b[1m 528/1000\u001b[0m \u001b[32m━━━━━━━━━━\u001b[0m\u001b[37m━━━━━━━━━━\u001b[0m \u001b[1m0s\u001b[0m 2ms/step - loss: 1.8854"
          ]
        },
        {
          "name": "stderr",
          "output_type": "stream",
          "text": [
            "Loading and processing data: 46184it [00:25, 2629.95it/s]"
          ]
        },
        {
          "name": "stdout",
          "output_type": "stream",
          "text": [
            "\u001b[1m 594/1000\u001b[0m \u001b[32m━━━━━━━━━━━\u001b[0m\u001b[37m━━━━━━━━━\u001b[0m \u001b[1m0s\u001b[0m 2ms/step - loss: 1.8279"
          ]
        },
        {
          "name": "stderr",
          "output_type": "stream",
          "text": [
            "Loading and processing data: 46456it [00:25, 2646.06it/s]"
          ]
        },
        {
          "name": "stdout",
          "output_type": "stream",
          "text": [
            "\u001b[1m 663/1000\u001b[0m \u001b[32m━━━━━━━━━━━━━\u001b[0m\u001b[37m━━━━━━━\u001b[0m \u001b[1m0s\u001b[0m 2ms/step - loss: 1.7755"
          ]
        },
        {
          "name": "stderr",
          "output_type": "stream",
          "text": [
            "Loading and processing data: 46728it [00:25, 2665.76it/s]"
          ]
        },
        {
          "name": "stdout",
          "output_type": "stream",
          "text": [
            "\u001b[1m 727/1000\u001b[0m \u001b[32m━━━━━━━━━━━━━━\u001b[0m\u001b[37m━━━━━━\u001b[0m \u001b[1m0s\u001b[0m 2ms/step - loss: 1.7672"
          ]
        },
        {
          "name": "stderr",
          "output_type": "stream",
          "text": [
            "Loading and processing data: 46995it [00:25, 2598.11it/s]"
          ]
        },
        {
          "name": "stdout",
          "output_type": "stream",
          "text": [
            "\u001b[1m 792/1000\u001b[0m \u001b[32m━━━━━━━━━━━━━━━\u001b[0m\u001b[37m━━━━━\u001b[0m \u001b[1m0s\u001b[0m 2ms/step - loss: 1.7795"
          ]
        },
        {
          "name": "stderr",
          "output_type": "stream",
          "text": [
            "Loading and processing data: 47264it [00:25, 2614.60it/s]"
          ]
        },
        {
          "name": "stdout",
          "output_type": "stream",
          "text": [
            "\u001b[1m 859/1000\u001b[0m \u001b[32m━━━━━━━━━━━━━━━━━\u001b[0m\u001b[37m━━━\u001b[0m \u001b[1m0s\u001b[0m 2ms/step - loss: 1.7996"
          ]
        },
        {
          "name": "stderr",
          "output_type": "stream",
          "text": [
            "Loading and processing data: 47528it [00:25, 2616.06it/s]"
          ]
        },
        {
          "name": "stdout",
          "output_type": "stream",
          "text": [
            "\u001b[1m 924/1000\u001b[0m \u001b[32m━━━━━━━━━━━━━━━━━━\u001b[0m\u001b[37m━━\u001b[0m \u001b[1m0s\u001b[0m 2ms/step - loss: 1.8256"
          ]
        },
        {
          "name": "stderr",
          "output_type": "stream",
          "text": [
            "Loading and processing data: 47790it [00:26, 2608.69it/s]"
          ]
        },
        {
          "name": "stdout",
          "output_type": "stream",
          "text": [
            "\u001b[1m1000/1000\u001b[0m \u001b[32m━━━━━━━━━━━━━━━━━━━━\u001b[0m\u001b[37m\u001b[0m \u001b[1m2s\u001b[0m 2ms/step - loss: 1.8568\n",
            "Epoch 13/15\n",
            "\u001b[1m   1/1000\u001b[0m \u001b[37m━━━━━━━━━━━━━━━━━━━━\u001b[0m \u001b[1m2s\u001b[0m 2ms/step - loss: 4.6415"
          ]
        },
        {
          "name": "stderr",
          "output_type": "stream",
          "text": [
            "Loading and processing data: 48052it [00:26, 2577.62it/s]"
          ]
        },
        {
          "name": "stdout",
          "output_type": "stream",
          "text": [
            "\u001b[1m  66/1000\u001b[0m \u001b[32m━\u001b[0m\u001b[37m━━━━━━━━━━━━━━━━━━━\u001b[0m \u001b[1m1s\u001b[0m 2ms/step - loss: 3.0523"
          ]
        },
        {
          "name": "stderr",
          "output_type": "stream",
          "text": [
            "Loading and processing data: 48312it [00:26, 2579.76it/s]"
          ]
        },
        {
          "name": "stdout",
          "output_type": "stream",
          "text": [
            "\u001b[1m 128/1000\u001b[0m \u001b[32m━━\u001b[0m\u001b[37m━━━━━━━━━━━━━━━━━━\u001b[0m \u001b[1m1s\u001b[0m 2ms/step - loss: 3.2942"
          ]
        },
        {
          "name": "stderr",
          "output_type": "stream",
          "text": [
            "Loading and processing data: 48571it [00:26, 2513.19it/s]"
          ]
        },
        {
          "name": "stdout",
          "output_type": "stream",
          "text": [
            "\u001b[1m 188/1000\u001b[0m \u001b[32m━━━\u001b[0m\u001b[37m━━━━━━━━━━━━━━━━━\u001b[0m \u001b[1m1s\u001b[0m 2ms/step - loss: 3.3682"
          ]
        },
        {
          "name": "stderr",
          "output_type": "stream",
          "text": [
            "Loading and processing data: 48823it [00:26, 2510.12it/s]"
          ]
        },
        {
          "name": "stdout",
          "output_type": "stream",
          "text": [
            "\u001b[1m 254/1000\u001b[0m \u001b[32m━━━━━\u001b[0m\u001b[37m━━━━━━━━━━━━━━━\u001b[0m \u001b[1m1s\u001b[0m 2ms/step - loss: 3.4542"
          ]
        },
        {
          "name": "stderr",
          "output_type": "stream",
          "text": [
            "Loading and processing data: 49080it [00:26, 2523.15it/s]"
          ]
        },
        {
          "name": "stdout",
          "output_type": "stream",
          "text": [
            "\u001b[1m 320/1000\u001b[0m \u001b[32m━━━━━━\u001b[0m\u001b[37m━━━━━━━━━━━━━━\u001b[0m \u001b[1m1s\u001b[0m 2ms/step - loss: 3.5828"
          ]
        },
        {
          "name": "stderr",
          "output_type": "stream",
          "text": [
            "Loading and processing data: 49340it [00:26, 2540.03it/s]"
          ]
        },
        {
          "name": "stdout",
          "output_type": "stream",
          "text": [
            "\u001b[1m 385/1000\u001b[0m \u001b[32m━━━━━━━\u001b[0m\u001b[37m━━━━━━━━━━━━━\u001b[0m \u001b[1m0s\u001b[0m 2ms/step - loss: 3.6956"
          ]
        },
        {
          "name": "stderr",
          "output_type": "stream",
          "text": [
            "Loading and processing data: 49595it [00:26, 2542.05it/s]"
          ]
        },
        {
          "name": "stdout",
          "output_type": "stream",
          "text": [
            "\u001b[1m 450/1000\u001b[0m \u001b[32m━━━━━━━━━\u001b[0m\u001b[37m━━━━━━━━━━━\u001b[0m \u001b[1m0s\u001b[0m 2ms/step - loss: 3.7705"
          ]
        },
        {
          "name": "stderr",
          "output_type": "stream",
          "text": [
            "Loading and processing data: 49856it [00:26, 2555.62it/s]"
          ]
        },
        {
          "name": "stdout",
          "output_type": "stream",
          "text": [
            "\u001b[1m 513/1000\u001b[0m \u001b[32m━━━━━━━━━━\u001b[0m\u001b[37m━━━━━━━━━━\u001b[0m \u001b[1m0s\u001b[0m 2ms/step - loss: 3.7859"
          ]
        },
        {
          "name": "stderr",
          "output_type": "stream",
          "text": [
            "Loading and processing data: 50112it [00:26, 2521.90it/s]"
          ]
        },
        {
          "name": "stdout",
          "output_type": "stream",
          "text": [
            "\u001b[1m 577/1000\u001b[0m \u001b[32m━━━━━━━━━━━\u001b[0m\u001b[37m━━━━━━━━━\u001b[0m \u001b[1m0s\u001b[0m 2ms/step - loss: 3.7797"
          ]
        },
        {
          "name": "stderr",
          "output_type": "stream",
          "text": [
            "Loading and processing data: 50368it [00:27, 2529.21it/s]"
          ]
        },
        {
          "name": "stdout",
          "output_type": "stream",
          "text": [
            "\u001b[1m 642/1000\u001b[0m \u001b[32m━━━━━━━━━━━━\u001b[0m\u001b[37m━━━━━━━━\u001b[0m \u001b[1m0s\u001b[0m 2ms/step - loss: 3.7727"
          ]
        },
        {
          "name": "stderr",
          "output_type": "stream",
          "text": [
            "Loading and processing data: 50624it [00:27, 2537.89it/s]"
          ]
        },
        {
          "name": "stdout",
          "output_type": "stream",
          "text": [
            "\u001b[1m 708/1000\u001b[0m \u001b[32m━━━━━━━━━━━━━━\u001b[0m\u001b[37m━━━━━━\u001b[0m \u001b[1m0s\u001b[0m 2ms/step - loss: 3.7503"
          ]
        },
        {
          "name": "stderr",
          "output_type": "stream",
          "text": [
            "Loading and processing data: 50892it [00:27, 2577.62it/s]"
          ]
        },
        {
          "name": "stdout",
          "output_type": "stream",
          "text": [
            "\u001b[1m 776/1000\u001b[0m \u001b[32m━━━━━━━━━━━━━━━\u001b[0m\u001b[37m━━━━━\u001b[0m \u001b[1m0s\u001b[0m 2ms/step - loss: 3.7313"
          ]
        },
        {
          "name": "stderr",
          "output_type": "stream",
          "text": [
            "Loading and processing data: 51160it [00:27, 2601.61it/s]"
          ]
        },
        {
          "name": "stdout",
          "output_type": "stream",
          "text": [
            "\u001b[1m 844/1000\u001b[0m \u001b[32m━━━━━━━━━━━━━━━━\u001b[0m\u001b[37m━━━━\u001b[0m \u001b[1m0s\u001b[0m 2ms/step - loss: 3.7343"
          ]
        },
        {
          "name": "stderr",
          "output_type": "stream",
          "text": [
            "Loading and processing data: 51428it [00:27, 2623.62it/s]"
          ]
        },
        {
          "name": "stdout",
          "output_type": "stream",
          "text": [
            "\u001b[1m 907/1000\u001b[0m \u001b[32m━━━━━━━━━━━━━━━━━━\u001b[0m\u001b[37m━━\u001b[0m \u001b[1m0s\u001b[0m 2ms/step - loss: 3.7403"
          ]
        },
        {
          "name": "stderr",
          "output_type": "stream",
          "text": [
            "Loading and processing data: 51691it [00:27, 2592.09it/s]"
          ]
        },
        {
          "name": "stdout",
          "output_type": "stream",
          "text": [
            "\u001b[1m 963/1000\u001b[0m \u001b[32m━━━━━━━━━━━━━━━━━━━\u001b[0m\u001b[37m━\u001b[0m \u001b[1m0s\u001b[0m 2ms/step - loss: 3.7370"
          ]
        },
        {
          "name": "stderr",
          "output_type": "stream",
          "text": [
            "Loading and processing data: 51951it [00:27, 2485.67it/s]"
          ]
        },
        {
          "name": "stdout",
          "output_type": "stream",
          "text": [
            "\u001b[1m1000/1000\u001b[0m \u001b[32m━━━━━━━━━━━━━━━━━━━━\u001b[0m\u001b[37m\u001b[0m \u001b[1m2s\u001b[0m 2ms/step - loss: 3.7310\n",
            "Epoch 14/15\n",
            "\u001b[1m  35/1000\u001b[0m \u001b[37m━━━━━━━━━━━━━━━━━━━━\u001b[0m \u001b[1m1s\u001b[0m 1ms/step - loss: 2.4259"
          ]
        },
        {
          "name": "stderr",
          "output_type": "stream",
          "text": [
            "Loading and processing data: 52204it [00:27, 2492.88it/s]"
          ]
        },
        {
          "name": "stdout",
          "output_type": "stream",
          "text": [
            "\u001b[1m 103/1000\u001b[0m \u001b[32m━━\u001b[0m\u001b[37m━━━━━━━━━━━━━━━━━━\u001b[0m \u001b[1m1s\u001b[0m 1ms/step - loss: 2.8923"
          ]
        },
        {
          "name": "stderr",
          "output_type": "stream",
          "text": [
            "Loading and processing data: 52472it [00:27, 2535.11it/s]"
          ]
        },
        {
          "name": "stdout",
          "output_type": "stream",
          "text": [
            "\u001b[1m 168/1000\u001b[0m \u001b[32m━━━\u001b[0m\u001b[37m━━━━━━━━━━━━━━━━━\u001b[0m \u001b[1m1s\u001b[0m 2ms/step - loss: 3.3399"
          ]
        },
        {
          "name": "stderr",
          "output_type": "stream",
          "text": [
            "Loading and processing data: 52736it [00:28, 2562.84it/s]"
          ]
        },
        {
          "name": "stdout",
          "output_type": "stream",
          "text": [
            "\u001b[1m 236/1000\u001b[0m \u001b[32m━━━━\u001b[0m\u001b[37m━━━━━━━━━━━━━━━━\u001b[0m \u001b[1m1s\u001b[0m 2ms/step - loss: 3.7465"
          ]
        },
        {
          "name": "stderr",
          "output_type": "stream",
          "text": [
            "Loading and processing data: 53004it [00:28, 2596.20it/s]"
          ]
        },
        {
          "name": "stdout",
          "output_type": "stream",
          "text": [
            "\u001b[1m 302/1000\u001b[0m \u001b[32m━━━━━━\u001b[0m\u001b[37m━━━━━━━━━━━━━━\u001b[0m \u001b[1m1s\u001b[0m 2ms/step - loss: 3.9612"
          ]
        },
        {
          "name": "stderr",
          "output_type": "stream",
          "text": [
            "Loading and processing data: 53264it [00:28, 2596.40it/s]"
          ]
        },
        {
          "name": "stdout",
          "output_type": "stream",
          "text": [
            "\u001b[1m 366/1000\u001b[0m \u001b[32m━━━━━━━\u001b[0m\u001b[37m━━━━━━━━━━━━━\u001b[0m \u001b[1m0s\u001b[0m 2ms/step - loss: 4.0387"
          ]
        },
        {
          "name": "stderr",
          "output_type": "stream",
          "text": [
            "Loading and processing data: 53524it [00:28, 2544.67it/s]"
          ]
        },
        {
          "name": "stdout",
          "output_type": "stream",
          "text": [
            "\u001b[1m 424/1000\u001b[0m \u001b[32m━━━━━━━━\u001b[0m\u001b[37m━━━━━━━━━━━━\u001b[0m \u001b[1m0s\u001b[0m 2ms/step - loss: 4.0495"
          ]
        },
        {
          "name": "stderr",
          "output_type": "stream",
          "text": [
            "Loading and processing data: 53779it [00:28, 2492.30it/s]"
          ]
        },
        {
          "name": "stdout",
          "output_type": "stream",
          "text": [
            "\u001b[1m 486/1000\u001b[0m \u001b[32m━━━━━━━━━\u001b[0m\u001b[37m━━━━━━━━━━━\u001b[0m \u001b[1m0s\u001b[0m 2ms/step - loss: 4.0184"
          ]
        },
        {
          "name": "stderr",
          "output_type": "stream",
          "text": [
            "Loading and processing data: 54029it [00:28, 2481.57it/s]"
          ]
        },
        {
          "name": "stdout",
          "output_type": "stream",
          "text": [
            "\u001b[1m 554/1000\u001b[0m \u001b[32m━━━━━━━━━━━\u001b[0m\u001b[37m━━━━━━━━━\u001b[0m \u001b[1m0s\u001b[0m 2ms/step - loss: 4.0073"
          ]
        },
        {
          "name": "stderr",
          "output_type": "stream",
          "text": [
            "Loading and processing data: 54300it [00:28, 2540.18it/s]"
          ]
        },
        {
          "name": "stdout",
          "output_type": "stream",
          "text": [
            "\u001b[1m 621/1000\u001b[0m \u001b[32m━━━━━━━━━━━━\u001b[0m\u001b[37m━━━━━━━━\u001b[0m \u001b[1m0s\u001b[0m 2ms/step - loss: 4.0278"
          ]
        },
        {
          "name": "stderr",
          "output_type": "stream",
          "text": [
            "Loading and processing data: 54564it [00:28, 2569.43it/s]"
          ]
        },
        {
          "name": "stdout",
          "output_type": "stream",
          "text": [
            "\u001b[1m 681/1000\u001b[0m \u001b[32m━━━━━━━━━━━━━\u001b[0m\u001b[37m━━━━━━━\u001b[0m \u001b[1m0s\u001b[0m 2ms/step - loss: 4.0301"
          ]
        },
        {
          "name": "stderr",
          "output_type": "stream",
          "text": [
            "Loading and processing data: 54822it [00:28, 2507.39it/s]"
          ]
        },
        {
          "name": "stdout",
          "output_type": "stream",
          "text": [
            "\u001b[1m 743/1000\u001b[0m \u001b[32m━━━━━━━━━━━━━━\u001b[0m\u001b[37m━━━━━━\u001b[0m \u001b[1m0s\u001b[0m 2ms/step - loss: 4.0463"
          ]
        },
        {
          "name": "stderr",
          "output_type": "stream",
          "text": [
            "Loading and processing data: 55074it [00:28, 2424.93it/s]"
          ]
        },
        {
          "name": "stdout",
          "output_type": "stream",
          "text": [
            "\u001b[1m 802/1000\u001b[0m \u001b[32m━━━━━━━━━━━━━━━━\u001b[0m\u001b[37m━━━━\u001b[0m \u001b[1m0s\u001b[0m 2ms/step - loss: 4.0437"
          ]
        },
        {
          "name": "stderr",
          "output_type": "stream",
          "text": [
            "Loading and processing data: 55328it [00:29, 2452.44it/s]"
          ]
        },
        {
          "name": "stdout",
          "output_type": "stream",
          "text": [
            "\u001b[1m 870/1000\u001b[0m \u001b[32m━━━━━━━━━━━━━━━━━\u001b[0m\u001b[37m━━━\u001b[0m \u001b[1m0s\u001b[0m 2ms/step - loss: 4.0240"
          ]
        },
        {
          "name": "stderr",
          "output_type": "stream",
          "text": [
            "Loading and processing data: 55596it [00:29, 2517.79it/s]"
          ]
        },
        {
          "name": "stdout",
          "output_type": "stream",
          "text": [
            "\u001b[1m 939/1000\u001b[0m \u001b[32m━━━━━━━━━━━━━━━━━━\u001b[0m\u001b[37m━━\u001b[0m \u001b[1m0s\u001b[0m 2ms/step - loss: 3.9948"
          ]
        },
        {
          "name": "stderr",
          "output_type": "stream",
          "text": [
            "Loading and processing data: 55868it [00:29, 2575.51it/s]"
          ]
        },
        {
          "name": "stdout",
          "output_type": "stream",
          "text": [
            "\u001b[1m1000/1000\u001b[0m \u001b[32m━━━━━━━━━━━━━━━━━━━━\u001b[0m\u001b[37m\u001b[0m \u001b[1m2s\u001b[0m 2ms/step - loss: 3.9883\n",
            "Epoch 15/15\n",
            "\u001b[1m   1/1000\u001b[0m \u001b[37m━━━━━━━━━━━━━━━━━━━━\u001b[0m \u001b[1m2s\u001b[0m 2ms/step - loss: 16.4994"
          ]
        },
        {
          "name": "stderr",
          "output_type": "stream",
          "text": [
            "Loading and processing data: 56132it [00:29, 2590.46it/s]"
          ]
        },
        {
          "name": "stdout",
          "output_type": "stream",
          "text": [
            "\u001b[1m  69/1000\u001b[0m \u001b[32m━\u001b[0m\u001b[37m━━━━━━━━━━━━━━━━━━━\u001b[0m \u001b[1m1s\u001b[0m 1ms/step - loss: 6.2730"
          ]
        },
        {
          "name": "stderr",
          "output_type": "stream",
          "text": [
            "Loading and processing data: 56404it [00:29, 2619.82it/s]"
          ]
        },
        {
          "name": "stdout",
          "output_type": "stream",
          "text": [
            "\u001b[1m 137/1000\u001b[0m \u001b[32m━━\u001b[0m\u001b[37m━━━━━━━━━━━━━━━━━━\u001b[0m \u001b[1m1s\u001b[0m 1ms/step - loss: 4.6212"
          ]
        },
        {
          "name": "stderr",
          "output_type": "stream",
          "text": [
            "Loading and processing data: 56672it [00:29, 2635.48it/s]"
          ]
        },
        {
          "name": "stdout",
          "output_type": "stream",
          "text": [
            "\u001b[1m 205/1000\u001b[0m \u001b[32m━━━━\u001b[0m\u001b[37m━━━━━━━━━━━━━━━━\u001b[0m \u001b[1m1s\u001b[0m 1ms/step - loss: 4.8438"
          ]
        },
        {
          "name": "stderr",
          "output_type": "stream",
          "text": [
            "Loading and processing data: 56936it [00:29, 2625.68it/s]"
          ]
        },
        {
          "name": "stdout",
          "output_type": "stream",
          "text": [
            "\u001b[1m 269/1000\u001b[0m \u001b[32m━━━━━\u001b[0m\u001b[37m━━━━━━━━━━━━━━━\u001b[0m \u001b[1m1s\u001b[0m 2ms/step - loss: 5.0287"
          ]
        },
        {
          "name": "stderr",
          "output_type": "stream",
          "text": [
            "Loading and processing data: 57199it [00:29, 2621.24it/s]"
          ]
        },
        {
          "name": "stdout",
          "output_type": "stream",
          "text": [
            "\u001b[1m 332/1000\u001b[0m \u001b[32m━━━━━━\u001b[0m\u001b[37m━━━━━━━━━━━━━━\u001b[0m \u001b[1m1s\u001b[0m 2ms/step - loss: 4.9944"
          ]
        },
        {
          "name": "stderr",
          "output_type": "stream",
          "text": [
            "Loading and processing data: 57462it [00:29, 2552.68it/s]"
          ]
        },
        {
          "name": "stdout",
          "output_type": "stream",
          "text": [
            "\u001b[1m 397/1000\u001b[0m \u001b[32m━━━━━━━\u001b[0m\u001b[37m━━━━━━━━━━━━━\u001b[0m \u001b[1m0s\u001b[0m 2ms/step - loss: 4.9886"
          ]
        },
        {
          "name": "stderr",
          "output_type": "stream",
          "text": [
            "Loading and processing data: 57732it [00:29, 2591.46it/s]"
          ]
        },
        {
          "name": "stdout",
          "output_type": "stream",
          "text": [
            "\u001b[1m 465/1000\u001b[0m \u001b[32m━━━━━━━━━\u001b[0m\u001b[37m━━━━━━━━━━━\u001b[0m \u001b[1m0s\u001b[0m 2ms/step - loss: 5.1394"
          ]
        },
        {
          "name": "stderr",
          "output_type": "stream",
          "text": [
            "Loading and processing data: 58004it [00:30, 2628.76it/s]"
          ]
        },
        {
          "name": "stdout",
          "output_type": "stream",
          "text": [
            "\u001b[1m 535/1000\u001b[0m \u001b[32m━━━━━━━━━━\u001b[0m\u001b[37m━━━━━━━━━━\u001b[0m \u001b[1m0s\u001b[0m 2ms/step - loss: 5.2257"
          ]
        },
        {
          "name": "stderr",
          "output_type": "stream",
          "text": [
            "Loading and processing data: 58280it [00:30, 2657.36it/s]"
          ]
        },
        {
          "name": "stdout",
          "output_type": "stream",
          "text": [
            "\u001b[1m 603/1000\u001b[0m \u001b[32m━━━━━━━━━━━━\u001b[0m\u001b[37m━━━━━━━━\u001b[0m \u001b[1m0s\u001b[0m 2ms/step - loss: 5.2760"
          ]
        },
        {
          "name": "stderr",
          "output_type": "stream",
          "text": [
            "Loading and processing data: 58552it [00:30, 2667.74it/s]"
          ]
        },
        {
          "name": "stdout",
          "output_type": "stream",
          "text": [
            "\u001b[1m 671/1000\u001b[0m \u001b[32m━━━━━━━━━━━━━\u001b[0m\u001b[37m━━━━━━━\u001b[0m \u001b[1m0s\u001b[0m 2ms/step - loss: 5.2918"
          ]
        },
        {
          "name": "stderr",
          "output_type": "stream",
          "text": [
            "Loading and processing data: 58824it [00:30, 2676.37it/s]"
          ]
        },
        {
          "name": "stdout",
          "output_type": "stream",
          "text": [
            "\u001b[1m 765/1000\u001b[0m \u001b[32m━━━━━━━━━━━━━━━\u001b[0m\u001b[37m━━━━━\u001b[0m \u001b[1m0s\u001b[0m 2ms/step - loss: 5.2490"
          ]
        },
        {
          "name": "stderr",
          "output_type": "stream",
          "text": [
            "Loading and processing data: 59092it [00:30, 2558.27it/s]"
          ]
        },
        {
          "name": "stdout",
          "output_type": "stream",
          "text": [
            "\u001b[1m 822/1000\u001b[0m \u001b[32m━━━━━━━━━━━━━━━━\u001b[0m\u001b[37m━━━━\u001b[0m \u001b[1m0s\u001b[0m 2ms/step - loss: 5.2066"
          ]
        },
        {
          "name": "stderr",
          "output_type": "stream",
          "text": [
            "Loading and processing data: 59349it [00:30, 2464.48it/s]"
          ]
        },
        {
          "name": "stdout",
          "output_type": "stream",
          "text": [
            "\u001b[1m 880/1000\u001b[0m \u001b[32m━━━━━━━━━━━━━━━━━\u001b[0m\u001b[37m━━━\u001b[0m \u001b[1m0s\u001b[0m 2ms/step - loss: 5.1644"
          ]
        },
        {
          "name": "stderr",
          "output_type": "stream",
          "text": [
            "Loading and processing data: 59597it [00:30, 2390.90it/s]"
          ]
        },
        {
          "name": "stdout",
          "output_type": "stream",
          "text": [
            "\u001b[1m 932/1000\u001b[0m \u001b[32m━━━━━━━━━━━━━━━━━━\u001b[0m\u001b[37m━━\u001b[0m \u001b[1m0s\u001b[0m 2ms/step - loss: 5.1319"
          ]
        },
        {
          "name": "stderr",
          "output_type": "stream",
          "text": [
            "Loading and processing data: 59838it [00:30, 2306.84it/s]"
          ]
        },
        {
          "name": "stdout",
          "output_type": "stream",
          "text": [
            "\u001b[1m1000/1000\u001b[0m \u001b[32m━━━━━━━━━━━━━━━━━━━━\u001b[0m\u001b[37m\u001b[0m \u001b[1m2s\u001b[0m 2ms/step - loss: 5.0862\n"
          ]
        },
        {
          "name": "stderr",
          "output_type": "stream",
          "text": [
            "2024/03/12 17:46:07 WARNING mlflow.utils.autologging_utils: Encountered unexpected error during tensorflow autologging: cannot import name '_initialize_variables' from 'keras.src.backend' (/home/jay/.local/lib/python3.11/site-packages/keras/src/backend/__init__.py)\n"
          ]
        },
        {
          "ename": "AttributeError",
          "evalue": "module 'mlflow' has no attribute 'keras'",
          "output_type": "error",
          "traceback": [
            "\u001b[0;31m---------------------------------------------------------------------------\u001b[0m",
            "\u001b[0;31mAttributeError\u001b[0m                            Traceback (most recent call last)",
            "Cell \u001b[0;32mIn[4], line 26\u001b[0m\n\u001b[1;32m     24\u001b[0m model_path \u001b[38;5;241m=\u001b[39m \u001b[38;5;124mf\u001b[39m\u001b[38;5;124m\"\u001b[39m\u001b[38;5;132;01m{\u001b[39;00mmodel_name\u001b[38;5;132;01m}\u001b[39;00m\u001b[38;5;124m.keras\u001b[39m\u001b[38;5;124m\"\u001b[39m\n\u001b[1;32m     25\u001b[0m model\u001b[38;5;241m.\u001b[39msave(model_path)\n\u001b[0;32m---> 26\u001b[0m \u001b[43mmlflow\u001b[49m\u001b[38;5;241;43m.\u001b[39;49m\u001b[43mkeras\u001b[49m\u001b[38;5;241m.\u001b[39mlog_model(model, \u001b[38;5;124m\"\u001b[39m\u001b[38;5;124mmodel\u001b[39m\u001b[38;5;124m\"\u001b[39m, registered_model_name\u001b[38;5;241m=\u001b[39mmodel_name)\n",
            "\u001b[0;31mAttributeError\u001b[0m: module 'mlflow' has no attribute 'keras'"
          ]
        },
        {
          "name": "stderr",
          "output_type": "stream",
          "text": [
            "Loading and processing data: 59838it [00:50, 2306.84it/s]"
          ]
        }
      ],
      "source": [
        "\n",
        "# MLflow tracking\n",
        "mlflow.autolog()\n",
        "\n",
        "epochs = 10\n",
        "batch_size = 1024  # This is now only for your reference and generator configuration\n",
        "\n",
        "with mlflow.start_run():\n",
        "    # Assuming your data_generator now correctly configures batches of size `batch_size`\n",
        "    model.fit(x=data_generator(filepath, tokenizer, batch_size, max_length),\n",
        "              epochs=epochs,\n",
        "              steps_per_epoch=83419,verbose = 0)  # Make sure this matches your actual number of batches per epoch)\n",
        "\n",
        "    # Log additional metrics or parameters\n",
        "    mlflow.log_param(\"vocab_size\", vocab_size)\n",
        "    mlflow.log_param(\"embedding_dim\", embedding_dim)\n",
        "    mlflow.log_param(\"max_length\", max_length)\n",
        "    mlflow.log_param(\"num_heads\", num_heads)\n",
        "    mlflow.log_param(\"intermediate_dim\", intermediate_dim)\n",
        "    mlflow.log_param(\"epochs\", epochs)\n",
        "    mlflow.log_param(\"generator_batch_size\", batch_size)  # Renamed to clarify this is the generator's batch size\n",
        "    \n",
        "    # Save and log the model in MLflow\n",
        "    model_name = \"YT_Transformer\"\n",
        "    model_path = f\"{model_name}.keras\"\n",
        "    model.save(model_path)\n",
        "    mlflow.keras.log_model(model, \"model\", registered_model_name=model_name)\n",
        "\n"
      ]
    },
    {
      "cell_type": "code",
      "execution_count": null,
      "metadata": {
        "jukit_cell_id": "NjVou6EDo0"
      },
      "outputs": [],
      "source": [
        "#model.save(f'{actual_model_name}.keras')\n",
        "\n",
        "predictions = model.predict(X_test)\n",
        "\n",
        "for i in range(10):  # Display first 10 predictions\n",
        "    print(f\"Predicted view count: {predictions[i]}, Actual view count: {y_test[i]}\")"
      ]
    },
    {
      "cell_type": "code",
      "execution_count": null,
      "metadata": {
        "jukit_cell_id": "nNomoUvqzW"
      },
      "outputs": [],
      "source": [
        "# Make a line \n",
        "x = np.linspace(0,10,100)\n",
        "y = np.linspace(0,10,100)"
      ]
    },
    {
      "cell_type": "code",
      "execution_count": null,
      "metadata": {
        "jukit_cell_id": "NWJd7aQ28G"
      },
      "outputs": [],
      "source": [
        "#import seaborn as sns\n",
        "#import matplotlib.pyplot as plt\n",
        "#\n",
        "#\n",
        "#heatmap, xedges, yedges = np.histogram2d(y_test.flatten(), predictions.flatten(), bins=100)\n",
        "#\n",
        "#extent = [xedges[0], xedges[-1], yedges[0], yedges[-1]]\n",
        "#\n",
        "#\n",
        "#plt.imshow(heatmap.T, extent=extent, origin='lower')\n",
        "#plt.plot(x,y, 'r--')\n",
        "#plt.xlabel('Views Order of Magnitude')\n",
        "#plt.ylabel('Predicted Order of Magnitude')\n",
        "#plt.xlim(2,15)\n",
        "#plt.ylim(0,17)\n",
        "#plt.savefig(f'{actual_model_name}_heatmap_bonito.png')\n",
        "#\n",
        "#import matplotlib.pyplot as plt\n",
        "#\n",
        "#\n",
        "#plt.scatter(y_test, predictions, alpha=0.1, s=0.5)\n",
        "#plt.plot(x,y,'r--')\n",
        "#plt.xlabel('Actual View Count')\n",
        "#plt.ylabel('Predicted View Count')\n",
        "#plt.savefig(f'{actual_model_name}_scatter_bonit.png')"
      ]
    },
    {
      "cell_type": "code",
      "execution_count": null,
      "metadata": {
        "jukit_cell_id": "v61GjURvbq"
      },
      "outputs": [],
      "source": [
        "# If you need to convert an array of values\n",
        "y_test_e = np.exp(y_test)  # Assuming y_test was in loge form\n",
        "y_test_10 = np.log10(y_test_e)\n",
        "\n",
        "predictions_e = np.exp(predictions)  # Assuming predictions were in loge form\n",
        "predictions_10 = np.log10(predictions_e)\n",
        "\n",
        "y_test = y_test_10\n",
        "predictions = predictions_10"
      ]
    },
    {
      "cell_type": "code",
      "execution_count": null,
      "metadata": {
        "jukit_cell_id": "ohrretbeKu"
      },
      "outputs": [],
      "source": [
        "import seaborn as sns\n",
        "import matplotlib.pyplot as plt\n",
        "import numpy as np\n",
        "\n",
        "# Assuming y_test and predictions are available and in log form\n",
        "# Heatmap\n",
        "heatmap, xedges, yedges = np.histogram2d(y_test.flatten(), predictions.flatten(), bins=100)\n",
        "extent = [xedges[0], xedges[-1], yedges[0], yedges[-1]]\n",
        "\n",
        "plt.figure(figsize=(10, 8))\n",
        "sns.set(style=\"white\")\n",
        "\n",
        "# Using a colormap (e.g., 'viridis' which is visually appealing and colorblind-friendly)\n",
        "plt.imshow(heatmap.T, extent=extent, origin='lower', aspect='auto', cmap='viridis')\n",
        "\n",
        "# Assuming x, y for the red dashed line are defined correctly and correspond to log scale\n",
        "plt.plot(x, y, 'r--')\n",
        "\n",
        "plt.xlabel('Log of Actual View Count')\n",
        "plt.ylabel('Log of Predicted View Count')\n",
        "plt.colorbar(label='Count of Test')\n",
        "plt.title('Heatmap of Predictions vs Actual Views')\n",
        "plt.xlim(0, 9)\n",
        "plt.ylim(0, 9)\n",
        "\n",
        "# Adjusting x and y axis to show in 10^ format\n",
        "ax = plt.gca()\n",
        "ax.set_xticklabels([f'$10^{{{int(float(label))}}}$' for label in ax.get_xticks()])\n",
        "ax.set_yticklabels([f'$10^{{{int(float(label))}}}$' for label in ax.get_yticks()])\n",
        "\n",
        "plt.savefig(f'{actual_model_name}_heatmap_bonito.png')"
      ]
    },
    {
      "cell_type": "code",
      "execution_count": null,
      "metadata": {
        "jukit_cell_id": "sXLwhEE9CR"
      },
      "outputs": [],
      "source": [
        "plt.figure(figsize=(10, 8))\n",
        "sns.set(style=\"whitegrid\")\n",
        "\n",
        "# Scatter plot with adjustments for alpha and size for better visibility\n",
        "plt.scatter(y_test, predictions, alpha=0.2, s=10, cmap='viridis')\n",
        "\n",
        "plt.plot(x, y, 'r--')  # Assuming x, y for the red dashed line are correct\n",
        "\n",
        "plt.xlabel('Log of Actual View Count')\n",
        "plt.ylabel('Log of Predicted View Count')\n",
        "plt.title('Scatter Plot of Predicted vs Actual Views')\n",
        "plt.xlim(0, 9)\n",
        "plt.ylim(0, 9)\n",
        "\n",
        "\n",
        "# Adjust axis to reflect 10^x and 10^y\n",
        "ax = plt.gca()\n",
        "ax.set_xticklabels([f'$10^{{{int(float(label))}}}$' for label in ax.get_xticks()])\n",
        "ax.set_yticklabels([f'$10^{{{int(float(label))}}}$' for label in ax.get_yticks()])\n",
        "\n",
        "plt.savefig(f'{actual_model_name}_scatter_bonito.png')"
      ]
    },
    {
      "cell_type": "code",
      "execution_count": null,
      "metadata": {
        "jukit_cell_id": "9IRxPNoVbP"
      },
      "outputs": [],
      "source": []
    }
  ],
  "metadata": {
    "anaconda-cloud": {},
    "kernelspec": {
      "display_name": "python",
      "language": "python",
      "name": "python3"
    },
    "language_info": {
      "codemirror_mode": {
        "name": "ipython",
        "version": 3
      },
      "file_extension": ".py",
      "mimetype": "text/x-python",
      "name": "python",
      "nbconvert_exporter": "python",
      "pygments_lexer": "ipython3",
      "version": "3.11.8"
    }
  },
  "nbformat": 4,
  "nbformat_minor": 4
}
