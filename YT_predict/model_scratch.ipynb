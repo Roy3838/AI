{
 "cells": [
  {
   "cell_type": "code",
   "execution_count": null,
   "metadata": {},
   "outputs": [],
   "source": [
    "import json\n",
    "import os\n",
    "import sys\n",
    "\n",
    "import json\n",
    "from tqdm import tqdm\n",
    "\n",
    "def load_jsonl_to_memory(filepath, fraction=20):\n",
    "    # Determine the total number of lines to calculate the size of the fraction\n",
    "    with open(filepath, 'r', encoding='utf-8') as file:\n",
    "        total_lines = sum(1 for _ in file)\n",
    "    \n",
    "    # Calculate the number of lines to process based on the fraction\n",
    "    lines_to_process = total_lines // fraction\n",
    "    \n",
    "    # Preallocate the list with None values for the fraction of data\n",
    "    data = [None] * lines_to_process\n",
    "    \n",
    "    with open(filepath, 'r', encoding='utf-8') as file:\n",
    "        processed_lines = 0  # Keep track of how many lines have been processed\n",
    "        for index, line in enumerate(tqdm(file, total=total_lines, desc=\"Processing\")):\n",
    "            if index % fraction == 0:  # Process only every fraction-th line\n",
    "                # Parse the JSON content from the line and add it to the data list\n",
    "                data[processed_lines] = json.loads(line)\n",
    "                processed_lines += 1\n",
    "                if processed_lines >= lines_to_process:\n",
    "                    break  # Stop if we've processed the intended number of lines\n",
    "    \n",
    "    return data\n",
    "\n",
    "data = load_jsonl_to_memory('/mnt/datassd/processed_file.jsonl')"
   ]
  },
  {
   "cell_type": "code",
   "execution_count": null,
   "metadata": {},
   "outputs": [],
   "source": [
    "# data in GB\n",
    "sys.getsizeof(data) / 1024**2"
   ]
  },
  {
   "cell_type": "code",
   "execution_count": null,
   "metadata": {},
   "outputs": [],
   "source": [
    "import numpy as np\n",
    "len(data)"
   ]
  },
  {
   "cell_type": "code",
   "execution_count": null,
   "metadata": {},
   "outputs": [],
   "source": [
    "from tensorflow.keras.preprocessing.text import Tokenizer\n",
    "from tensorflow.keras.preprocessing.sequence import pad_sequences\n",
    "import numpy as np\n",
    "from sklearn.model_selection import train_test_split\n",
    "\n",
    "# Assuming 'data' is your list of dictionaries\n",
    "titles = [item['title'] for item in data]\n",
    "view_counts = np.array([item['view_count'] for item in data])\n",
    "\n",
    "# Parameters for tokenization and padding\n",
    "vocab_size = 10000  # Adjust based on your dataset\n",
    "max_length = 100  # Adjust based on the length of your titles\n",
    "padding_type = 'post'\n",
    "trunc_type = 'post'\n",
    "\n",
    "# Initialize and fit the tokenizer\n",
    "tokenizer = Tokenizer(num_words=vocab_size, oov_token=\"<OOV>\")\n",
    "tokenizer.fit_on_texts(titles)\n",
    "\n",
    "# Convert titles to sequences and pad them\n",
    "sequences = tokenizer.texts_to_sequences(titles)\n",
    "padded_sequences = pad_sequences(sequences, maxlen=max_length, padding=padding_type, truncating=trunc_type)\n",
    "\n",
    "# Split the data into training and testing sets\n",
    "X_train, X_test, y_train, y_test = train_test_split(padded_sequences, view_counts, test_size=0.2, random_state=42)\n"
   ]
  },
  {
   "cell_type": "code",
   "execution_count": null,
   "metadata": {},
   "outputs": [],
   "source": [
    "import numpy as np\n",
    "import keras\n",
    "from keras import layers\n",
    "import keras_nlp\n",
    "\n",
    "vocab_size = 10000  # Adjust based on your vocabulary size\n",
    "embedding_dim = 256\n",
    "max_length = 100  # Adjust based on your titles' maximum length\n",
    "num_heads = 8  # Number of attention heads in the Transformer encoder\n",
    "intermediate_dim = 512  # Dimensionality of the encoder's intermediate (feed-forward) layer\n",
    "\n",
    "# Define input layer\n",
    "inputs = keras.Input(shape=(max_length,), dtype='int64')\n",
    "\n",
    "# Token and position embedding layer\n",
    "embedding_layer = keras_nlp.layers.TokenAndPositionEmbedding(\n",
    "    vocabulary_size=vocab_size,\n",
    "    sequence_length=max_length,\n",
    "    embedding_dim=embedding_dim,\n",
    ")\n",
    "x = embedding_layer(inputs)\n",
    "\n",
    "# Transformer encoder layer\n",
    "encoder = keras_nlp.layers.TransformerEncoder(\n",
    "    num_heads=num_heads,\n",
    "    intermediate_dim=intermediate_dim,\n",
    "    activation='relu',\n",
    "    dropout=0.1,\n",
    ")\n",
    "x = encoder(x)\n",
    "\n",
    "# Since we're working on a regression task, a GlobalMaxPooling1D layer is used to reduce the sequence dimension\n",
    "x = layers.GlobalMaxPooling1D()(x)\n",
    "\n",
    "# Additional dense layers for further processing\n",
    "x = layers.Dense(256, activation='relu')(x)\n",
    "outputs = layers.Dense(1, activation='linear')(x)  # Linear activation for a regression task\n",
    "\n",
    "# Compile the model\n",
    "model = keras.Model(inputs=inputs, outputs=outputs)\n",
    "model.compile(optimizer=keras.optimizers.Adam(learning_rate=1e-4), loss='mean_squared_error')\n",
    "\n",
    "model.summary()\n"
   ]
  },
  {
   "cell_type": "code",
   "execution_count": null,
   "metadata": {},
   "outputs": [],
   "source": [
    "from tensorflow.keras.models import Sequential\n",
    "from tensorflow.keras.layers import Embedding, Conv1D, MaxPooling1D, LSTM, GlobalMaxPooling1D, Dense\n",
    "from tensorflow.keras.optimizers import Adam\n",
    "\n",
    "\n",
    "vocab_size = 10000  # Adjust based on your vocabulary size\n",
    "embedding_dim = 256\n",
    "max_length = 100  # Adjust based on your titles' maximum length\n",
    "\n",
    "model = Sequential([\n",
    "    Embedding(input_dim=vocab_size, output_dim=embedding_dim, input_length=max_length),\n",
    "    Conv1D(filters=128, kernel_size=5, activation='relu'),\n",
    "    MaxPooling1D(pool_size=4),\n",
    "    LSTM(128, return_sequences=True),\n",
    "    GlobalMaxPooling1D(),\n",
    "    Dense(256, activation='relu'),\n",
    "    Dense(1, activation='linear')  # Linear activation for a regression task\n",
    "])\n",
    "\n",
    "model.compile(optimizer=Adam(learning_rate=1e-4), loss='mean_squared_error')\n",
    "\n",
    "model.summary()\n"
   ]
  },
  {
   "cell_type": "code",
   "execution_count": null,
   "metadata": {},
   "outputs": [],
   "source": [
    "del data\n"
   ]
  },
  {
   "cell_type": "code",
   "execution_count": null,
   "metadata": {},
   "outputs": [],
   "source": [
    "# Assuming X_train, y_train are your training data and labels, respectively\n",
    "model.fit(X_train, y_train, validation_split=0.1, epochs=10, batch_size=32)\n"
   ]
  },
  {
   "cell_type": "code",
   "execution_count": null,
   "metadata": {},
   "outputs": [],
   "source": [
    "model.save('YT_model_Transformer.keras')"
   ]
  },
  {
   "cell_type": "code",
   "execution_count": null,
   "metadata": {},
   "outputs": [],
   "source": [
    "import tensorflow as tf\n",
    "import keras\n",
    "#del X_train, y_train\n",
    "\n",
    "model = tf.keras.models.load_model('YT_model20epochs.keras')"
   ]
  },
  {
   "cell_type": "code",
   "execution_count": null,
   "metadata": {},
   "outputs": [],
   "source": [
    "# Predict view counts for the test set\n",
    "predictions = model.predict(X_test, verbose=1)\n",
    "\n",
    "# Optionally, compare the first few predictions to the actual view counts\n",
    "for i in range(10):  # Display first 10 predictions\n",
    "    print(f\"Predicted view count: {predictions[i]}, Actual view count: {y_test[i]}\")\n"
   ]
  },
  {
   "cell_type": "code",
   "execution_count": null,
   "metadata": {},
   "outputs": [],
   "source": [
    "import matplotlib.pyplot as plt\n",
    "\n",
    "\n",
    "\n",
    "# Plot the predicted vs. actual view counts\n",
    "\n",
    "plt.scatter(y_test, predictions, alpha=0.4)\n",
    "plt.xlabel('Actual View Count')\n",
    "plt.ylabel('Predicted View Count')\n",
    "plt.show()\n"
   ]
  },
  {
   "cell_type": "code",
   "execution_count": null,
   "metadata": {},
   "outputs": [],
   "source": [
    "# Evaluate the model on the test set\n",
    "loss = model.evaluate(X_test, y_test, verbose=1)\n",
    "\n",
    "# If you have specified any metrics when compiling the model, they will also be returned\n",
    "# Example: model.compile(optimizer='adam', loss='mean_squared_error', metrics=['mae'])\n",
    "# Then you can unpack the results as follows:\n",
    "# loss, mae = model.evaluate(X_test, y_test, verbose=1)\n",
    "\n",
    "print(f\"Test Loss: {loss}\")\n",
    "# If applicable: print(f\"Test MAE: {mae}\")\n"
   ]
  },
  {
   "cell_type": "code",
   "execution_count": null,
   "metadata": {},
   "outputs": [],
   "source": [
    "model.fit(X_train, y_train, validation_split=0.1, epochs=10, batch_size=32)"
   ]
  },
  {
   "cell_type": "code",
   "execution_count": null,
   "metadata": {},
   "outputs": [],
   "source": [
    "model.save('YT_model20epochs.keras')"
   ]
  },
  {
   "cell_type": "code",
   "execution_count": null,
   "metadata": {},
   "outputs": [],
   "source": [
    "# Predict view counts for the test set\n",
    "predictions = model.predict(X_test, verbose=1)\n",
    "\n",
    "# Optionally, compare the first few predictions to the actual view counts\n",
    "for i in range(10):  # Display first 10 predictions\n",
    "    print(f\"Predicted view count: {predictions[i]}, Actual view count: {y_test[i]}\")\n",
    "\n",
    "# Evaluate the model on the test set\n",
    "loss = model.evaluate(X_test, y_test, verbose=1)\n",
    "\n",
    "print(f\"Test Loss: {loss}\")"
   ]
  },
  {
   "cell_type": "code",
   "execution_count": null,
   "metadata": {},
   "outputs": [],
   "source": [
    "model.fit(X_train, y_train, validation_split=0.1, epochs=10, batch_size=32)"
   ]
  }
 ],
 "metadata": {
  "kernelspec": {
   "display_name": "Python 3",
   "language": "python",
   "name": "python3"
  },
  "language_info": {
   "codemirror_mode": {
    "name": "ipython",
    "version": 3
   },
   "file_extension": ".py",
   "mimetype": "text/x-python",
   "name": "python",
   "nbconvert_exporter": "python",
   "pygments_lexer": "ipython3",
   "version": "3.11.7"
  }
 },
 "nbformat": 4,
 "nbformat_minor": 2
}
