{
 "cells": [
  {
   "cell_type": "code",
   "execution_count": 1,
   "metadata": {},
   "outputs": [],
   "source": [
    "# import key from non-tracked file\n",
    "from openai import OpenAI\n",
    "import os\n",
    "import matplotlib.image as img\n",
    "import requests\n",
    "import base64\n",
    "from PIL import Image\n",
    "import io"
   ]
  },
  {
   "cell_type": "markdown",
   "metadata": {},
   "source": [
    "## Definimos la API KEY\n",
    "la key esta definida en key.py pero pues esta untracked porque si se sube a GitHub hay bots que roban credenciales"
   ]
  },
  {
   "cell_type": "code",
   "execution_count": 2,
   "metadata": {},
   "outputs": [],
   "source": [
    "from key import key\n",
    "key = key()\n",
    "os.environ[\"OPENAI_API_KEY\"] = key"
   ]
  },
  {
   "cell_type": "markdown",
   "metadata": {},
   "source": [
    "## Metodo para codificar la imagen y forzarla a 256x256"
   ]
  },
  {
   "cell_type": "code",
   "execution_count": 5,
   "metadata": {},
   "outputs": [],
   "source": [
    "def encode_image(image_path):\n",
    "    with open(image_path, \"rb\") as image_file:\n",
    "        image = Image.open(image_file)\n",
    "        \n",
    "        # Resize the image to 256x256\n",
    "        image = image.resize((256, 256))\n",
    "        \n",
    "        # Save the resized image to a bytes buffer\n",
    "        buffer = io.BytesIO()\n",
    "        image.save(buffer, format=\"JPEG\")  # You can change the format if needed\n",
    "        \n",
    "        byte_data = buffer.getvalue()\n",
    "        string = base64.b64encode(byte_data).decode('utf-8')\n",
    "        \n",
    "        return string"
   ]
  },
  {
   "cell_type": "markdown",
   "metadata": {},
   "source": [
    "# Input"
   ]
  },
  {
   "cell_type": "code",
   "execution_count": 8,
   "metadata": {},
   "outputs": [],
   "source": [
    "# Imagen del Agave\n",
    "image_path = \"agave.jpg\"\n",
    "\n",
    "# Prompt\n",
    "text_prompt = \"Utiliza la imagen y descripción adjuntas para informar a los patrocinadores sobre el estado mensual de su planta de agave en peligro de extinción. Describe el crecimiento y cambios notables de la planta. Finaliza con un agradecimiento sincero por su continuo apoyo en este boletín mensual.Genera un mensaje amable para actualizar a los patrocinadores sobre el estado de su planta de agave en peligro de extinción. Incluye agradecimiento por su apoyo.\"\n",
    "\n",
    "# Codificar imagen\n",
    "base64_image = encode_image(image_path)\n",
    "\n",
    "# JSON payload\n",
    "headers = {\n",
    "  \"Content-Type\": \"application/json\",\n",
    "  \"Authorization\": f\"Bearer {key}\"\n",
    "}\n",
    "\n",
    "payload = {\n",
    "  \"model\": \"gpt-4-vision-preview\",\n",
    "  \"messages\": [\n",
    "    {\n",
    "      \"role\": \"user\",\n",
    "      \"content\": [\n",
    "        {\n",
    "          \"type\": \"text\",\n",
    "          \"text\": text_prompt\n",
    "        },\n",
    "        {\n",
    "          \"type\": \"image_url\",\n",
    "          \"image_url\": {\n",
    "            \"url\": f\"data:image/jpeg;base64,{base64_image}\"\n",
    "          }\n",
    "        }\n",
    "      ]\n",
    "    }\n",
    "  ],\n",
    "  \"max_tokens\": 400\n",
    "}\n"
   ]
  },
  {
   "cell_type": "markdown",
   "metadata": {},
   "source": [
    "## Hacemos el request\n",
    "Cuesta aprox 0.01 USD"
   ]
  },
  {
   "cell_type": "code",
   "execution_count": 9,
   "metadata": {},
   "outputs": [],
   "source": [
    "response = requests.post(\"https://api.openai.com/v1/chat/completions\", headers=headers, json=payload)"
   ]
  },
  {
   "cell_type": "markdown",
   "metadata": {},
   "source": [
    "# Output\n",
    "Costo del request"
   ]
  },
  {
   "cell_type": "code",
   "execution_count": 22,
   "metadata": {},
   "outputs": [
    {
     "data": {
      "text/plain": [
       "0.013519999999999999"
      ]
     },
     "execution_count": 22,
     "metadata": {},
     "output_type": "execute_result"
    }
   ],
   "source": [
    "# Cost 0.01 per 1K tokens input and 0.03 per 1K tokens output\n",
    "input_cost = response.json()['usage']['prompt_tokens']/1000 * 0.01\n",
    "output_cost = response.json()['usage']['completion_tokens']/1000 * 0.03\n",
    "\n",
    "total_cost = input_cost + output_cost\n",
    "\n",
    "total_cost\n"
   ]
  },
  {
   "cell_type": "markdown",
   "metadata": {},
   "source": [
    "## Mensaje generado"
   ]
  },
  {
   "cell_type": "code",
   "execution_count": 25,
   "metadata": {},
   "outputs": [
    {
     "name": "stdout",
     "output_type": "stream",
     "text": [
      "Estimados patrocinadores,\n",
      "\n",
      "Nos complace compartir con ustedes otra actualización sobre la salud y el progreso de nuestra querida planta de agave en peligro de extinción, cuyo crecimiento ustedes han hecho posible con su generoso apoyo.\n",
      "\n",
      "Como pueden ver en la imagen adjunta, su planta de agave está floreciendo admirablemente. Sus hojas han mantenido un verde vibrante, signo de una excelente salud. Además, nos alegra informar que la planta ha mostrado un crecimiento constante desde nuestra última actualización, con un incremento notable en la densidad y robustez de sus hojas. Esta fortaleza es esencial para su supervivencia en condiciones naturales adversas.\n",
      "\n",
      "No se han observado señales de enfermedad o estrés; todo lo contrario, la planta parece estar en su óptimo estado. Nuestros cuidados continuos, junto con las condiciones climáticas favorables de este mes, han contribuido a este resultado positivo.\n",
      "\n",
      "Este progreso es un testimonio del impacto que su ayuda continua tiene en la conservación de especies amenazadas como esta. Sin su interés y contribuciones, este trabajo vital no sería posible.\n",
      "\n",
      "Queremos expresar nuestra más profunda gratitud por su compromiso en hacer del mundo un lugar más verde y sostenible. Cada hoja que crece y cada nuevo brote es un logro que compartimos con ustedes.\n",
      "\n",
      "Con sinceridad y aprecio,\n",
      "\n",
      "[Nombre del equipo de conservación]\n",
      "\n"
     ]
    }
   ],
   "source": [
    "text = response.json()['choices'][0]['message']['content']\n",
    "\n",
    "text = text.split('\\n')\n",
    "\n",
    "for i in text:\n",
    "    print(i)\n"
   ]
  }
 ],
 "metadata": {
  "kernelspec": {
   "display_name": "Python 3",
   "language": "python",
   "name": "python3"
  },
  "language_info": {
   "codemirror_mode": {
    "name": "ipython",
    "version": 3
   },
   "file_extension": ".py",
   "mimetype": "text/x-python",
   "name": "python",
   "nbconvert_exporter": "python",
   "pygments_lexer": "ipython3",
   "version": "3.11.7"
  }
 },
 "nbformat": 4,
 "nbformat_minor": 2
}
